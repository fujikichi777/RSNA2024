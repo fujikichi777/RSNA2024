{
 "cells": [
  {
   "cell_type": "markdown",
   "metadata": {
    "id": "KbOlqXC1_XIb"
   },
   "source": [
    "# Unetのセグメンテーションモデル"
   ]
  },
  {
   "cell_type": "code",
   "execution_count": null,
   "metadata": {
    "colab": {
     "base_uri": "https://localhost:8080/"
    },
    "executionInfo": {
     "elapsed": 14658,
     "status": "ok",
     "timestamp": 1734582863866,
     "user": {
      "displayName": "藤吉亨",
      "userId": "10408607038785028470"
     },
     "user_tz": -540
    },
    "id": "-BTZAuKt_MuU",
    "outputId": "e958a15b-f366-4ae1-a738-54d2710547cd"
   },
   "outputs": [],
   "source": [
    "pip install segmentation_models_pytorch"
   ]
  },
  {
   "cell_type": "code",
   "execution_count": null,
   "metadata": {
    "colab": {
     "base_uri": "https://localhost:8080/"
    },
    "executionInfo": {
     "elapsed": 8701,
     "status": "ok",
     "timestamp": 1734582872564,
     "user": {
      "displayName": "藤吉亨",
      "userId": "10408607038785028470"
     },
     "user_tz": -540
    },
    "id": "W6kcj1AF_eK0",
    "outputId": "d015e9dc-77a7-45c0-c338-1240453a5ae7"
   },
   "outputs": [],
   "source": [
    "pip install pydicom"
   ]
  },
  {
   "cell_type": "code",
   "execution_count": null,
   "metadata": {
    "executionInfo": {
     "elapsed": 16292,
     "status": "ok",
     "timestamp": 1734582888853,
     "user": {
      "displayName": "藤吉亨",
      "userId": "10408607038785028470"
     },
     "user_tz": -540
    },
    "id": "c2I1WB_p_h7T"
   },
   "outputs": [],
   "source": [
    "import pandas as pd\n",
    "import matplotlib.pyplot as plt\n",
    "import cv2\n",
    "import pydicom\n",
    "import numpy as np\n",
    "import os\n",
    "import glob\n",
    "from tqdm import tqdm\n",
    "import gc\n",
    "\n",
    "import torchvision\n",
    "import torch\n",
    "import torch.nn as nn\n",
    "from torch.utils.data import Dataset\n",
    "from fastai.vision.all import *\n",
    "import segmentation_models_pytorch as smp\n",
    "\n",
    "device = torch.device(\"cuda\" if torch.cuda.is_available() else \"cpu\")"
   ]
  },
  {
   "cell_type": "code",
   "execution_count": null,
   "metadata": {
    "executionInfo": {
     "elapsed": 5,
     "status": "ok",
     "timestamp": 1734582888853,
     "user": {
      "displayName": "藤吉亨",
      "userId": "10408607038785028470"
     },
     "user_tz": -540
    },
    "id": "6AokdhEl_lxn"
   },
   "outputs": [],
   "source": [
    "CV = 5\n",
    "SEED = 777\n",
    "fold = 1\n",
    "PATCH_SIZE = 512\n",
    "patch_size = 64\n",
    "TH = .5\n",
    "SEG_TRAIN = False\n",
    "SEG = {\n",
    "    'BS':16,\n",
    "    'LR':5e-4,\n",
    "    'EPOCHS':10\n",
    "}\n",
    "INF = {\n",
    "    'BS':64,\n",
    "    'LR':1e-5,\n",
    "    'EPOCHS':10\n",
    "}"
   ]
  },
  {
   "cell_type": "code",
   "execution_count": null,
   "metadata": {
    "colab": {
     "base_uri": "https://localhost:8080/"
    },
    "executionInfo": {
     "elapsed": 973386,
     "status": "ok",
     "timestamp": 1734583884877,
     "user": {
      "displayName": "藤吉亨",
      "userId": "10408607038785028470"
     },
     "user_tz": -540
    },
    "id": "arMOtjSe_2OJ",
    "outputId": "d94a6433-9550-441d-ab99-ec7abf5f910a"
   },
   "outputs": [],
   "source": [
    "!unzip /content/drive/MyDrive/rsna-2024-lumbar-spine-degenerative-classification.zip -d /content #RSNA2024を今のディレクトリに展開する"
   ]
  },
  {
   "cell_type": "code",
   "execution_count": null,
   "metadata": {
    "colab": {
     "base_uri": "https://localhost:8080/",
     "height": 255
    },
    "executionInfo": {
     "elapsed": 453,
     "status": "ok",
     "timestamp": 1734583890223,
     "user": {
      "displayName": "藤吉亨",
      "userId": "10408607038785028470"
     },
     "user_tz": -540
    },
    "id": "w4BE5dpS_oZZ",
    "outputId": "e6bbf469-d0e3-4fdf-fef8-76d04ec60855"
   },
   "outputs": [],
   "source": [
    "train = pd.read_csv('/content/train.csv')\n",
    "train.tail()"
   ]
  },
  {
   "cell_type": "code",
   "execution_count": null,
   "metadata": {
    "colab": {
     "base_uri": "https://localhost:8080/",
     "height": 255
    },
    "executionInfo": {
     "elapsed": 455,
     "status": "ok",
     "timestamp": 1734583893643,
     "user": {
      "displayName": "藤吉亨",
      "userId": "10408607038785028470"
     },
     "user_tz": -540
    },
    "id": "sJpT05fd_-JZ",
    "outputId": "bed4b7bb-01f5-46c4-d670-7457371594b7"
   },
   "outputs": [],
   "source": [
    "diagnosis = list(filter(lambda x: x.find('foraminal') > -1, train.columns))\n",
    "train = train[train[diagnosis].isnull().values.sum(1)==0].reset_index(drop=True)\n",
    "train.tail()"
   ]
  },
  {
   "cell_type": "code",
   "execution_count": null,
   "metadata": {
    "executionInfo": {
     "elapsed": 2,
     "status": "ok",
     "timestamp": 1734583895140,
     "user": {
      "displayName": "藤吉亨",
      "userId": "10408607038785028470"
     },
     "user_tz": -540
    },
    "id": "1l28_lhG_-06"
   },
   "outputs": [],
   "source": [
    "train2=train[['study_id']+diagnosis]"
   ]
  },
  {
   "cell_type": "code",
   "execution_count": null,
   "metadata": {
    "executionInfo": {
     "elapsed": 1,
     "status": "ok",
     "timestamp": 1734583896820,
     "user": {
      "displayName": "藤吉亨",
      "userId": "10408607038785028470"
     },
     "user_tz": -540
    },
    "id": "XIjky2wrABab"
   },
   "outputs": [],
   "source": [
    "labels = {\n",
    "    'Normal/Mild':0,\n",
    "    'Moderate':1,\n",
    "    'Severe':2\n",
    "}"
   ]
  },
  {
   "cell_type": "code",
   "execution_count": null,
   "metadata": {
    "colab": {
     "base_uri": "https://localhost:8080/",
     "height": 206
    },
    "executionInfo": {
     "elapsed": 6,
     "status": "ok",
     "timestamp": 1734583898909,
     "user": {
      "displayName": "藤吉亨",
      "userId": "10408607038785028470"
     },
     "user_tz": -540
    },
    "id": "M4CrtFrlAHYR",
    "outputId": "b7f4c335-b659-4cb0-a989-7aea35f3206c"
   },
   "outputs": [],
   "source": [
    "df_meta_f = pd.read_csv('/content/train_series_descriptions.csv')\n",
    "df_meta_f.tail()"
   ]
  },
  {
   "cell_type": "code",
   "execution_count": null,
   "metadata": {
    "colab": {
     "base_uri": "https://localhost:8080/",
     "height": 293
    },
    "executionInfo": {
     "elapsed": 5,
     "status": "ok",
     "timestamp": 1734583898909,
     "user": {
      "displayName": "藤吉亨",
      "userId": "10408607038785028470"
     },
     "user_tz": -540
    },
    "id": "dTe5GcDBALfL",
    "outputId": "152a849d-97ac-4609-c35f-3f7be165b677"
   },
   "outputs": [],
   "source": [
    "df_coor = pd.read_csv('/content/train_label_coordinates.csv')\n",
    "df_coor.tail()"
   ]
  },
  {
   "cell_type": "code",
   "execution_count": null,
   "metadata": {
    "colab": {
     "base_uri": "https://localhost:8080/",
     "height": 206
    },
    "executionInfo": {
     "elapsed": 432,
     "status": "ok",
     "timestamp": 1734583904725,
     "user": {
      "displayName": "藤吉亨",
      "userId": "10408607038785028470"
     },
     "user_tz": -540
    },
    "id": "PYxKWXXjAb-n",
    "outputId": "79561f0f-aa20-49c9-855e-54008f4e4aaa"
   },
   "outputs": [],
   "source": [
    "RF = df_coor[df_coor['condition']=='Spinal Canal Stenosis'][[\n",
    "    'study_id',\n",
    "    'series_id',\n",
    "    'instance_number',\n",
    "    'level',\n",
    "    'x',\n",
    "    'y'\n",
    "]].sort_values([\n",
    "    'study_id',\n",
    "    'series_id',\n",
    "    'level'\n",
    "])[[\n",
    "    'study_id',\n",
    "    'series_id',\n",
    "    'instance_number',\n",
    "    'level',\n",
    "    'x',\n",
    "    'y'\n",
    "]].drop_duplicates()\n",
    "RF.tail()"
   ]
  },
  {
   "cell_type": "code",
   "execution_count": null,
   "metadata": {
    "executionInfo": {
     "elapsed": 2033,
     "status": "ok",
     "timestamp": 1734583909366,
     "user": {
      "displayName": "藤吉亨",
      "userId": "10408607038785028470"
     },
     "user_tz": -540
    },
    "id": "QkFCx1KIB_w7"
   },
   "outputs": [],
   "source": [
    "centers = {}\n",
    "for i in range(len(RF)):\n",
    "    row = RF.iloc[i]\n",
    "    centers[row['study_id']]={}\n",
    "for i in range(len(RF)):\n",
    "    row = RF.iloc[i]\n",
    "    centers[row['study_id']][row['series_id']]={'L1/L2':[],'L2/L3':[],'L3/L4':[],'L4/L5':[],'L5/S1':[]}\n",
    "for i in range(len(RF)):\n",
    "    row = RF.iloc[i]\n",
    "    centers[row['study_id']][row['series_id']][row['level']].append([row['x'],row['y']])"
   ]
  },
  {
   "cell_type": "code",
   "execution_count": null,
   "metadata": {
    "executionInfo": {
     "elapsed": 3327,
     "status": "ok",
     "timestamp": 1734583914338,
     "user": {
      "displayName": "藤吉亨",
      "userId": "10408607038785028470"
     },
     "user_tz": -540
    },
    "id": "SXLNstPPCCgY"
   },
   "outputs": [],
   "source": [
    "coordinates = np.zeros((len(RF),10))\n",
    "coordinates[:] = np.nan\n",
    "for i in range(len(RF)):\n",
    "    row = RF.iloc[i]\n",
    "    for level in centers[row['study_id']][row['series_id']]:\n",
    "        if len(centers[row['study_id']][row['series_id']][level]) > 0:\n",
    "            center = np.array(centers[row['study_id']][row['series_id']][level]).mean(0)\n",
    "            coordinates[\n",
    "                i,\n",
    "                {'L1/L2':0, 'L2/L3':2, 'L3/L4':4, 'L4/L5':6, 'L5/S1':8}[level]:{'L1/L2':0, 'L2/L3':2, 'L3/L4':4, 'L4/L5':6, 'L5/S1':8}[level]+2\n",
    "            ] = center"
   ]
  },
  {
   "cell_type": "code",
   "execution_count": null,
   "metadata": {
    "colab": {
     "base_uri": "https://localhost:8080/",
     "height": 226
    },
    "executionInfo": {
     "elapsed": 4,
     "status": "ok",
     "timestamp": 1734583914338,
     "user": {
      "displayName": "藤吉亨",
      "userId": "10408607038785028470"
     },
     "user_tz": -540
    },
    "id": "pUEdXw8fCGwj",
    "outputId": "c84dc209-041c-4d74-a5de-eb54e971d7d9"
   },
   "outputs": [],
   "source": [
    "RF = RF[[\n",
    "    'study_id',\n",
    "    'series_id',\n",
    "    'instance_number',\n",
    "    'x',\n",
    "    'y'\n",
    "]]\n",
    "RF[[\n",
    "    'x_L1L2',\n",
    "    'y_L1L2',\n",
    "    'x_L2L3',\n",
    "    'y_L2L3',\n",
    "    'x_L3L4',\n",
    "    'y_L3L4',\n",
    "    'x_L4L5',\n",
    "    'y_L4L5',\n",
    "    'x_L5S1',\n",
    "    'y_L5S1',\n",
    "]] = coordinates\n",
    "RF = RF.drop(columns=['x','y']).drop_duplicates().reset_index(drop=True)\n",
    "RF.tail()"
   ]
  },
  {
   "cell_type": "code",
   "execution_count": null,
   "metadata": {
    "colab": {
     "base_uri": "https://localhost:8080/",
     "height": 226
    },
    "executionInfo": {
     "elapsed": 443,
     "status": "ok",
     "timestamp": 1734583917390,
     "user": {
      "displayName": "藤吉亨",
      "userId": "10408607038785028470"
     },
     "user_tz": -540
    },
    "id": "XeMmvod9CKy5",
    "outputId": "36bc777a-7f35-436b-ad55-14cfb6d78eba"
   },
   "outputs": [],
   "source": [
    "RF = RF[RF[[\n",
    "    'x_L1L2',\n",
    "    'y_L1L2',\n",
    "    'x_L2L3',\n",
    "    'y_L2L3',\n",
    "    'x_L3L4',\n",
    "    'y_L3L4',\n",
    "    'x_L4L5',\n",
    "    'y_L4L5',\n",
    "    'x_L5S1',\n",
    "    'y_L5S1',\n",
    "]].isnull().values.sum(1)==0].reset_index(drop=True)\n",
    "RF.tail()"
   ]
  },
  {
   "cell_type": "code",
   "execution_count": null,
   "metadata": {
    "colab": {
     "base_uri": "https://localhost:8080/",
     "height": 226
    },
    "executionInfo": {
     "elapsed": 1107,
     "status": "ok",
     "timestamp": 1734583921157,
     "user": {
      "displayName": "藤吉亨",
      "userId": "10408607038785028470"
     },
     "user_tz": -540
    },
    "id": "rRwMWuRTCOsI",
    "outputId": "a32be966-701c-4853-fd7c-630d87b29776"
   },
   "outputs": [],
   "source": [
    "diagnosis = list(filter(lambda x: x.find('spinal') > -1, train.columns))\n",
    "RF = RF.merge(train[['study_id']+diagnosis], left_on='study_id', right_on='study_id')\n",
    "RF.tail()"
   ]
  },
  {
   "cell_type": "code",
   "execution_count": null,
   "metadata": {
    "executionInfo": {
     "elapsed": 2,
     "status": "ok",
     "timestamp": 1734583922075,
     "user": {
      "displayName": "藤吉亨",
      "userId": "10408607038785028470"
     },
     "user_tz": -540
    },
    "id": "pnDAxoDuC6wL"
   },
   "outputs": [],
   "source": [
    "labels = {\n",
    "    'Normal/Mild':0,\n",
    "    'Moderate':1,\n",
    "    'Severe':2\n",
    "}\n",
    "\n",
    "coor = [\n",
    "    'x_L1L2',\n",
    "    'y_L1L2',\n",
    "    'x_L2L3',\n",
    "    'y_L2L3',\n",
    "    'x_L3L4',\n",
    "    'y_L3L4',\n",
    "    'x_L4L5',\n",
    "    'y_L4L5',\n",
    "    'x_L5S1',\n",
    "    'y_L5S1',\n",
    "]"
   ]
  },
  {
   "cell_type": "code",
   "execution_count": null,
   "metadata": {
    "executionInfo": {
     "elapsed": 2,
     "status": "ok",
     "timestamp": 1734583923966,
     "user": {
      "displayName": "藤吉亨",
      "userId": "10408607038785028470"
     },
     "user_tz": -540
    },
    "id": "OxJu0pDhMeDM"
   },
   "outputs": [],
   "source": [
    "def seed_everything(seed):\n",
    "    random.seed(seed)\n",
    "    np.random.seed(seed)\n",
    "    os.environ[\"PYTHONHASHSEED\"] = str(seed)\n",
    "    torch.manual_seed(seed)\n",
    "    torch.cuda.manual_seed(seed)\n",
    "    torch.backends.cudnn.deterministic = True\n",
    "    torch.backends.cudnn.benchmark = False"
   ]
  },
  {
   "cell_type": "code",
   "execution_count": null,
   "metadata": {
    "executionInfo": {
     "elapsed": 437,
     "status": "ok",
     "timestamp": 1734583927299,
     "user": {
      "displayName": "藤吉亨",
      "userId": "10408607038785028470"
     },
     "user_tz": -540
    },
    "id": "v_dS_R3GMbD2"
   },
   "outputs": [],
   "source": [
    "def augment_image_and_centers(image,centers,alpha):\n",
    "    '''\n",
    "    # Randomly flip the image horizontally.\n",
    "    if random.random() > .5:\n",
    "      if random.random() > 1 - alpha:\n",
    "        image = image.flip(-1)\n",
    "        centers[:,0] = PATCH_SIZE - centers[:,0]\n",
    "    # Randomly flip the image vertically.\n",
    "    if random.random() > 0.5:\n",
    "      if random.random() > 1 - alpha:\n",
    "        image = image.flip(-2)\n",
    "        centers[:,1] = PATCH_SIZE - centers[:,1]\n",
    "\n",
    "    if random.random() > 1 - alpha:\n",
    "      if random.random() > .5:\n",
    "    #   Randomly flip the image\n",
    "    #   Wich axis?\n",
    "         axis = np.random.randint(2)\n",
    "        image = image.flip(axis+1)\n",
    "        centers[:,-1-axis] = PATCH_SIZE - centers[:,-1-axis]\n",
    "    '''\n",
    "#   Randomly rotate the image.\n",
    "    angle = torch.as_tensor(random.uniform(-180, 180)*alpha)\n",
    "    image = torchvision.transforms.functional.rotate(image,angle.item())\n",
    "#   https://discuss.pytorch.org/t/rotation-matrix/128260\n",
    "    angle = angle*math.pi/180\n",
    "    s = torch.sin(angle)\n",
    "    c = torch.cos(angle)\n",
    "    rot = torch.stack([\n",
    "        torch.stack([c, s]),\n",
    "        torch.stack([-s, c])\n",
    "      ])\n",
    "    centers = ((centers.cpu() - PATCH_SIZE//2) @ rot) + PATCH_SIZE//2\n",
    "    return image,centers"
   ]
  },
  {
   "cell_type": "code",
   "execution_count": null,
   "metadata": {
    "executionInfo": {
     "elapsed": 460,
     "status": "ok",
     "timestamp": 1734584292516,
     "user": {
      "displayName": "藤吉亨",
      "userId": "10408607038785028470"
     },
     "user_tz": -540
    },
    "id": "933Fmn8dMWx9"
   },
   "outputs": [],
   "source": [
    "class T1Dataset(Dataset):\n",
    "    def __init__(self, df, VALID=False, alpha=0):\n",
    "        self.data = df\n",
    "        self.VALID = VALID\n",
    "        self.alpha = alpha\n",
    "\n",
    "    def __len__(self):\n",
    "        return len(self.data)\n",
    "\n",
    "    def __getitem__(self, index):\n",
    "        row = self.data.iloc[index]\n",
    "\n",
    "        centers = torch.as_tensor([x for x in row[coor]]).view(5,2).float()\n",
    "\n",
    "        sample = '/content/train_images/'\n",
    "        sample = sample+str(row['study_id'])+'/'+str(row['series_id'])+'/'+str(row['instance_number'])+'.dcm'\n",
    "        image = pydicom.dcmread(sample).pixel_array\n",
    "        H,W = image.shape\n",
    "#       By plane resizing I've been distorting the proportions\n",
    "        if H > W:\n",
    "            d = W\n",
    "            if not self.VALID:\n",
    "                h = int((H - d)*(.5 + self.alpha*(.5 - np.random.rand())))\n",
    "            else:\n",
    "                h = (H - d)//2\n",
    "            image = image[h:h+d]\n",
    "            centers[:,1] -= h\n",
    "            H = W\n",
    "        elif H < W:\n",
    "            d = H\n",
    "            if not self.VALID:\n",
    "                w = int((W - d)*(.5 + self.alpha*(.5 - np.random.rand())))\n",
    "            else:\n",
    "                w = (W - d)//2\n",
    "            image = image[:,w:w+d]\n",
    "            centers[:,0] -= w\n",
    "            W = H\n",
    "        image = cv2.resize(image,(PATCH_SIZE,PATCH_SIZE))\n",
    "        image = torch.as_tensor(image/np.max(image)).unsqueeze(0).float()\n",
    "\n",
    "        label = label = torch.as_tensor(1)\n",
    "\n",
    "        centers[:,0] = centers[:,0]*PATCH_SIZE/W\n",
    "        centers[:,1] = centers[:,1]*PATCH_SIZE/H\n",
    "\n",
    "        if not self.VALID: image,centers = augment_image_and_centers(image,centers,self.alpha)\n",
    "        return image.to(device),[label.to(device),centers.to(device)]"
   ]
  },
  {
   "cell_type": "code",
   "execution_count": null,
   "metadata": {
    "executionInfo": {
     "elapsed": 457,
     "status": "ok",
     "timestamp": 1734583933785,
     "user": {
      "displayName": "藤吉亨",
      "userId": "10408607038785028470"
     },
     "user_tz": -540
    },
    "id": "DMn_PBZQDBzN"
   },
   "outputs": [],
   "source": [
    "class myUNet3(nn.Module):\n",
    "    def __init__(self):\n",
    "        super(myUNet3, self).__init__()\n",
    "\n",
    "        self.UNet = smp.Unet(\n",
    "            encoder_name=\"resnet18\",\n",
    "            classes=5,\n",
    "            in_channels=1\n",
    "        ).to(device)\n",
    "\n",
    "    def forward(self,X):\n",
    "        x = self.UNet(X)\n",
    "#       MinMaxScaling along the class plane to generate a heatmap\n",
    "        min_values = x.view(-1,5,PATCH_SIZE*PATCH_SIZE).min(-1)[0].view(-1,5,1,1) # Bug, I've been MinMaxScaling with the wrong values\n",
    "        max_values = x.view(-1,5,PATCH_SIZE*PATCH_SIZE).max(-1)[0].view(-1,5,1,1)\n",
    "        x = (x - min_values)/(max_values - min_values)\n",
    "\n",
    "        return x"
   ]
  },
  {
   "cell_type": "code",
   "execution_count": null,
   "metadata": {
    "executionInfo": {
     "elapsed": 951,
     "status": "ok",
     "timestamp": 1734583937054,
     "user": {
      "displayName": "藤吉亨",
      "userId": "10408607038785028470"
     },
     "user_tz": -540
    },
    "id": "hE0iSDQuDHoj"
   },
   "outputs": [],
   "source": [
    "idx_map = torch.stack([torch.arange(PATCH_SIZE)]*PATCH_SIZE).to(device)\n",
    "idx_map = torch.stack([idx_map,idx_map.T]).view(1,1,2,PATCH_SIZE,PATCH_SIZE)\n",
    "class myLoss3(nn.Module):\n",
    "    def __init__(\n",
    "            self,\n",
    "            alpha=.5\n",
    "        ):\n",
    "        super().__init__()\n",
    "        self.alpha = alpha\n",
    "\n",
    "    def clone(self):\n",
    "        return myLoss3(self.alpha)\n",
    "\n",
    "    def forward(\n",
    "            self,\n",
    "            y,# Predictions\n",
    "            t # Targets\n",
    "        ):\n",
    "        mask_pred = y\n",
    "        _,mask_true = t\n",
    "#       The heatmap Loss as the distance between the predicted Normal and the ideal one\n",
    "#       Let's define the ideal heatmaps as the Normal distributions\n",
    "#       centered on the diagnostic centers with s2 = PATCH_SIZE/8\n",
    "        s2 = s2 = torch.as_tensor([PATCH_SIZE/8]*5)\n",
    "#       Then the corresponding alphas and normalization constants would be\n",
    "        A = -1/(2*s2).to(device)\n",
    "        K = 1/torch.sqrt(2*math.pi*s2).to(device)\n",
    "#       Predicted heatmaps rescaling\n",
    "        mask_pred = mask_pred*K.view(1,5,1,1)\n",
    "#       Ideal heatmaps\n",
    "        mask = idx_map - mask_true.view(-1,5,2,1,1)\n",
    "        mask = torch.exp((A.view(-1,5,1,1,1)*mask*mask).sum(2))*K.view(-1,5,1,1)\n",
    "#       Distance\n",
    "        D = 1 - ((mask*mask_pred).sum())**2/((mask*mask).sum()*(mask_pred*mask_pred).sum())\n",
    "\n",
    "        return D\n"
   ]
  },
  {
   "cell_type": "code",
   "execution_count": null,
   "metadata": {
    "colab": {
     "base_uri": "https://localhost:8080/",
     "height": 226
    },
    "executionInfo": {
     "elapsed": 433,
     "status": "ok",
     "timestamp": 1734583940989,
     "user": {
      "displayName": "藤吉亨",
      "userId": "10408607038785028470"
     },
     "user_tz": -540
    },
    "id": "q2o8uaIuDKLV",
    "outputId": "7f86fa7b-ed0d-4aa3-abe2-a72a129a4dc5"
   },
   "outputs": [],
   "source": [
    "import numpy as np\n",
    "\n",
    "# Number of rows in the DataFrame\n",
    "n = len(RF)\n",
    "\n",
    "# Create an array of repeated values from 1 to 5, evenly distributed\n",
    "values = np.tile(np.arange(1, 6), n // 5 + 1)[:n]  # Repeat 1-5, trim to match DataFrame size\n",
    "\n",
    "# Assign the values to the 'series_description2' column\n",
    "RF['series_description2'] = values\n",
    "\n",
    "# Display the first few rows to check the result\n",
    "RF.head()"
   ]
  },
  {
   "cell_type": "code",
   "execution_count": null,
   "metadata": {
    "executionInfo": {
     "elapsed": 998,
     "status": "ok",
     "timestamp": 1734583957372,
     "user": {
      "displayName": "藤吉亨",
      "userId": "10408607038785028470"
     },
     "user_tz": -540
    },
    "id": "BhQ2P2joQpmU"
   },
   "outputs": [],
   "source": [
    "SEG_TRAIN = True"
   ]
  },
  {
   "cell_type": "code",
   "execution_count": null,
   "metadata": {
    "colab": {
     "base_uri": "https://localhost:8080/",
     "height": 463
    },
    "executionInfo": {
     "elapsed": 49366,
     "status": "error",
     "timestamp": 1734584347241,
     "user": {
      "displayName": "藤吉亨",
      "userId": "10408607038785028470"
     },
     "user_tz": -540
    },
    "id": "BcIp0UZ0DTaq",
    "outputId": "f40b19eb-3def-488f-8e02-72dfec3769ec"
   },
   "outputs": [],
   "source": [
    "import pickle\n",
    "\n",
    "tdf = RF[RF['series_description2'] != fold]\n",
    "vdf = RF[RF['series_description2'] == fold]\n",
    "\n",
    "# tdf2=df_melted[df_melted['series_description'] != fold]\n",
    "# vdf2=df_melted[df_melted['series_description'] == fold]\n",
    "\n",
    "tds = T1Dataset(tdf)\n",
    "vds = T1Dataset(vdf,VALID=True)\n",
    "tdl = torch.utils.data.DataLoader(tds, batch_size=SEG['BS'], shuffle=True, drop_last=True)\n",
    "vdl = torch.utils.data.DataLoader(vds, batch_size=SEG['BS'], shuffle=False)\n",
    "\n",
    "if SEG_TRAIN:\n",
    "    seed_everything(SEED)\n",
    "\n",
    "    dls = DataLoaders(tdl,vdl)\n",
    "\n",
    "    n_iter = len(tds)//SEG['BS']\n",
    "\n",
    "    model = myUNet3()\n",
    "    learn = Learner(\n",
    "        dls,\n",
    "        model,\n",
    "        lr=SEG['LR'],\n",
    "        loss_func=myLoss3(alpha=0.5),\n",
    "        # cbs=[\n",
    "        #     ShowGraphCallback(),\n",
    "        #     alpha_cb\n",
    "        # ]\n",
    "    )\n",
    "    learn.fit_one_cycle(SEG['EPOCHS'])\n",
    "    with open('/content/drive/MyDrive/RSNA_csv/'+\"SEG_\"+\"SCS_\"+str(fold)+\"_30\"+\".pkl\", 'wb') as f:\n",
    "      pickle.dump(model, f)\n",
    "    del tdl,vdl,dls,model,learn\n",
    "    gc.collect()"
   ]
  },
  {
   "cell_type": "markdown",
   "metadata": {
    "id": "rudGsugOGqcW"
   },
   "source": [
    "# saggitalT2画像の前処理"
   ]
  },
  {
   "cell_type": "code",
   "execution_count": null,
   "metadata": {
    "executionInfo": {
     "elapsed": 1701,
     "status": "ok",
     "timestamp": 1734584367274,
     "user": {
      "displayName": "藤吉亨",
      "userId": "10408607038785028470"
     },
     "user_tz": -540
    },
    "id": "F4vzUwaYGzBV"
   },
   "outputs": [],
   "source": [
    "base_dir = '/content/train_images/'\n",
    "\n",
    "# リストを初期化\n",
    "data = []\n",
    "\n",
    "# 一番上の階層（study_id）のフォルダをたどる\n",
    "for study_id in os.listdir(base_dir):\n",
    "    study_path = os.path.join(base_dir, study_id)\n",
    "    if os.path.isdir(study_path):\n",
    "        # 二番目の階層（series_id）のフォルダをたどる\n",
    "        for series_id in os.listdir(study_path):\n",
    "            series_path = os.path.join(study_path, series_id)\n",
    "            if os.path.isdir(series_path):\n",
    "                # 三番目の階層（〇〇.dcm ファイル）をたどる\n",
    "                for filename in os.listdir(series_path):\n",
    "                    if filename.endswith('.dcm'):\n",
    "                        # 〇〇.dcm の〇〇部分（instance_number）を抽出\n",
    "                        instance_number = filename.split('.')[0]\n",
    "                        # データを追加\n",
    "                        data.append([study_id, series_id, instance_number])\n",
    "\n",
    "# pandas DataFrameを作成\n",
    "df = pd.DataFrame(data, columns=['study_id', 'series_id', 'instance_number'])"
   ]
  },
  {
   "cell_type": "code",
   "execution_count": null,
   "metadata": {
    "executionInfo": {
     "elapsed": 1038,
     "status": "ok",
     "timestamp": 1734584379370,
     "user": {
      "displayName": "藤吉亨",
      "userId": "10408607038785028470"
     },
     "user_tz": -540
    },
    "id": "3KXguwW2HYjh"
   },
   "outputs": [],
   "source": [
    "df_meta_f = pd.read_csv('/content/train_series_descriptions.csv')\n",
    "df_meta_f.tail()\n",
    "\n",
    "df = df.astype('int64')\n",
    "\n",
    "all_df = pd.merge(df, df_meta_f, on=['study_id', 'series_id'], how='inner')\n",
    "s2_all_df=all_df[all_df['series_description']=='Sagittal T2/STIR']"
   ]
  },
  {
   "cell_type": "code",
   "execution_count": null,
   "metadata": {
    "colab": {
     "base_uri": "https://localhost:8080/"
    },
    "executionInfo": {
     "elapsed": 155151,
     "status": "ok",
     "timestamp": 1734584837894,
     "user": {
      "displayName": "藤吉亨",
      "userId": "10408607038785028470"
     },
     "user_tz": -540
    },
    "id": "1rDL1ECTHlc9",
    "outputId": "353eaa88-24c1-441a-e347-24496d608bfd"
   },
   "outputs": [],
   "source": [
    "import os\n",
    "import numpy as np\n",
    "\n",
    "# データフレームをコピーして操作\n",
    "s2_all_df_copy = s2_all_df.copy()\n",
    "\n",
    "# x_pos カラムを NaN で初期化\n",
    "s2_all_df_copy['x_pos'] = None\n",
    "s2_all_df_copy['y_pos'] = None\n",
    "s2_all_df_copy['z_pos'] = None\n",
    "s2_all_df_copy['pixel_sp_z'] = None\n",
    "s2_all_df_copy['pixel_sp_y'] = None\n",
    "for idx, row in s2_all_df_copy.iterrows():\n",
    "    # DICOMファイルのパスを構築\n",
    "    dicom_file_path = f\"/content/train_images/{row['study_id']}/{row['series_id']}/{row['instance_number']}.dcm\"\n",
    "\n",
    "    # DICOMファイルを読み込む\n",
    "    dicom_data = pydicom.dcmread(dicom_file_path)\n",
    "\n",
    "    # 'Image Position (Patient)' の x 座標を取得して x_pos カラムに格納\n",
    "    s2_all_df_copy.loc[idx, 'x_pos'] = dicom_data.ImagePositionPatient[0]\n",
    "    s2_all_df_copy.loc[idx, 'y_pos'] = dicom_data.ImagePositionPatient[1]\n",
    "    s2_all_df_copy.loc[idx, 'z_pos'] = dicom_data.ImagePositionPatient[2]\n",
    "    s2_all_df_copy.loc[idx, 'pixel_sp_z']=dicom_data.PixelSpacing[0]\n",
    "    s2_all_df_copy.loc[idx, 'pixel_sp_y']=dicom_data.PixelSpacing[1]\n",
    "\n",
    "\n",
    "print(s2_all_df_copy)"
   ]
  },
  {
   "cell_type": "code",
   "execution_count": null,
   "metadata": {
    "colab": {
     "base_uri": "https://localhost:8080/"
    },
    "executionInfo": {
     "elapsed": 914,
     "status": "ok",
     "timestamp": 1734584838806,
     "user": {
      "displayName": "藤吉亨",
      "userId": "10408607038785028470"
     },
     "user_tz": -540
    },
    "id": "WUgJwQItIPSJ",
    "outputId": "118d59e1-6cb5-4239-d282-44161ce2bcbb"
   },
   "outputs": [],
   "source": [
    "import pandas as pd\n",
    "# Convert 'x_pos' to numeric, setting errors='coerce' to handle any non-numeric values\n",
    "s2_all_df_copy['x_pos'] = pd.to_numeric(s2_all_df_copy['x_pos'], errors='coerce')\n",
    "\n",
    "# Group by 'study_id' and sort within each group by 'x_pos'\n",
    "s2_all_df_sorted = s2_all_df_copy.groupby('study_id').apply(lambda x: x.sort_values('x_pos')).reset_index(drop=True)\n"
   ]
  },
  {
   "cell_type": "code",
   "execution_count": null,
   "metadata": {
    "colab": {
     "base_uri": "https://localhost:8080/",
     "height": 732
    },
    "executionInfo": {
     "elapsed": 1482,
     "status": "ok",
     "timestamp": 1734584847548,
     "user": {
      "displayName": "藤吉亨",
      "userId": "10408607038785028470"
     },
     "user_tz": -540
    },
    "id": "1zbLAExOIjqL",
    "outputId": "4b16a16e-7268-4c51-8e72-a843b74d324f"
   },
   "outputs": [],
   "source": [
    "import pandas as pd\n",
    "\n",
    "# グループごとに均等な間隔で10個の行を選択する関数\n",
    "def select_evenly_spaced(group, num=10):\n",
    "    # グループのサイズが10個未満の場合はそのまま返す\n",
    "    if len(group) <= num:\n",
    "        return group\n",
    "    # ステップを計算し、均等な間隔でデータを選ぶ\n",
    "    step = len(group) / num\n",
    "    indices = [int(i * step) for i in range(num)]\n",
    "    return group.iloc[indices]\n",
    "\n",
    "# study_id, instance_number, descriptionでグループ化し、各グループから均等に10個選択\n",
    "new_df = s2_all_df_sorted.groupby(['study_id'], group_keys=False).apply(select_evenly_spaced)\n",
    "\n",
    "# 結果の確認\n",
    "new_df.head(20)"
   ]
  },
  {
   "cell_type": "code",
   "execution_count": null,
   "metadata": {
    "colab": {
     "base_uri": "https://localhost:8080/"
    },
    "executionInfo": {
     "elapsed": 2,
     "status": "ok",
     "timestamp": 1734584854533,
     "user": {
      "displayName": "藤吉亨",
      "userId": "10408607038785028470"
     },
     "user_tz": -540
    },
    "id": "WYQytwbtIpl3",
    "outputId": "2ef7678b-3005-46d9-dc68-bc85d54b31db"
   },
   "outputs": [],
   "source": [
    "import pandas as pd\n",
    "\n",
    "# s_all_df3の5つのコピーを作成し、それぞれにlevelカラムを追加\n",
    "dfs = [new_df.assign(level=i) for i in range(5)]\n",
    "\n",
    "# それらのデータフレームを縦に連結\n",
    "combined_df = pd.concat(dfs, ignore_index=True)\n",
    "\n",
    "# 結果の確認\n",
    "print(combined_df.head())\n",
    "print(combined_df['level'].value_counts())"
   ]
  },
  {
   "cell_type": "code",
   "execution_count": null,
   "metadata": {
    "executionInfo": {
     "elapsed": 1014,
     "status": "ok",
     "timestamp": 1734584991537,
     "user": {
      "displayName": "藤吉亨",
      "userId": "10408607038785028470"
     },
     "user_tz": -540
    },
    "id": "MKbT-2zqUT5P"
   },
   "outputs": [],
   "source": [
    "combined_df = pd.merge(combined_df,train, on='study_id', how='left')"
   ]
  },
  {
   "cell_type": "code",
   "execution_count": null,
   "metadata": {
    "colab": {
     "base_uri": "https://localhost:8080/",
     "height": 443
    },
    "executionInfo": {
     "elapsed": 974,
     "status": "ok",
     "timestamp": 1734585326132,
     "user": {
      "displayName": "藤吉亨",
      "userId": "10408607038785028470"
     },
     "user_tz": -540
    },
    "id": "5sZYrC6lV30O",
    "outputId": "39f447bb-3f4f-411a-de74-fce49361fd31"
   },
   "outputs": [],
   "source": [
    "combined_df['spinal_canal_stenosis_l1_l2']"
   ]
  },
  {
   "cell_type": "code",
   "execution_count": null,
   "metadata": {
    "colab": {
     "base_uri": "https://localhost:8080/"
    },
    "executionInfo": {
     "elapsed": 1749,
     "status": "ok",
     "timestamp": 1734585453797,
     "user": {
      "displayName": "藤吉亨",
      "userId": "10408607038785028470"
     },
     "user_tz": -540
    },
    "id": "JSXBWyKBLIfP",
    "outputId": "1893e2b1-6e66-4a22-9507-73aed9a720bd"
   },
   "outputs": [],
   "source": [
    "import pandas as pd\n",
    "import numpy as np\n",
    "\n",
    "# サンプルデータフレームの作成（ここでは仮のカラムを使用しています）\n",
    "# 実際には combined_df には適切なカラムが含まれている必要があります\n",
    "# combined_df = pd.DataFrame({\n",
    "#     'description': [...],\n",
    "#     'level': [...],\n",
    "#     'left_neural_foraminal_narrowing_l1_l2': [...],\n",
    "#     'left_neural_foraminal_narrowing_l2_l3': [...],\n",
    "#     'left_neural_foraminal_narrowing_l3_l4': [...],\n",
    "#     'left_neural_foraminal_narrowing_l4_l5': [...],\n",
    "#     'left_neural_foraminal_narrowing_l5_s1': [...],\n",
    "#     'right_neural_foraminal_narrowing_l1_l2': [...],\n",
    "#     'right_neural_foraminal_narrowing_l2_l3': [...],\n",
    "#     'right_neural_foraminal_narrowing_l3_l4': [...],\n",
    "#     'right_neural_foraminal_narrowing_l4_l5': [...],\n",
    "#     'right_neural_foraminal_narrowing_l5_s1': [...],\n",
    "# })\n",
    "\n",
    "# `label`カラムを作成\n",
    "def get_label(row):\n",
    "      if row['level'] == 0:\n",
    "          return row['spinal_canal_stenosis_l1_l2']\n",
    "      elif row['level'] == 1:\n",
    "          return row['spinal_canal_stenosis_l2_l3']\n",
    "      elif row['level'] == 2:\n",
    "          return row['spinal_canal_stenosis_l3_l4']\n",
    "      elif row['level'] == 3:\n",
    "          return row['spinal_canal_stenosis_l4_l5']\n",
    "      elif row['level'] == 4:\n",
    "          return row['spinal_canal_stenosis_l5_s1']\n",
    "      else:\n",
    "        return np.nan  # 予期しない値の場合はNaNを返す\n",
    "\n",
    "# 新しいカラム `label` を作成\n",
    "combined_df['label'] = combined_df.apply(get_label, axis=1)\n",
    "\n",
    "# 結果の確認\n",
    "print(combined_df.head())\n"
   ]
  },
  {
   "cell_type": "code",
   "execution_count": null,
   "metadata": {
    "executionInfo": {
     "elapsed": 3644,
     "status": "ok",
     "timestamp": 1734585504006,
     "user": {
      "displayName": "藤吉亨",
      "userId": "10408607038785028470"
     },
     "user_tz": -540
    },
    "id": "PLE24n5hIyT2"
   },
   "outputs": [],
   "source": [
    "def pad_group(df, target_size=10):\n",
    "    # If the group has fewer than the target_size rows, duplicate the first row\n",
    "    if len(df) < target_size:\n",
    "        first_row = df.iloc[0:1]  # Get the first row of the group as a DataFrame\n",
    "        while len(df) < target_size:\n",
    "            # Concatenate the first row to the original group DataFrame\n",
    "            df = pd.concat([df, first_row], ignore_index=True)\n",
    "    return df\n",
    "\n",
    "# Assuming merged_df exists with 'study_id' and 'level' columns\n",
    "# Group by 'study_id' and 'level'\n",
    "grouped = combined_df.groupby(['study_id', 'level'])\n",
    "\n",
    "# Create an empty list to hold the padded groups\n",
    "padded_groups = []\n",
    "\n",
    "# Iterate over each group\n",
    "for _, group in grouped:\n",
    "    # Apply padding function to ensure group has 10 rows\n",
    "    padded_group = pad_group(group)\n",
    "    padded_groups.append(padded_group)\n",
    "\n",
    "# Concatenate all the padded groups back into a single DataFrame\n",
    "padded_df = pd.concat(padded_groups, ignore_index=True)"
   ]
  },
  {
   "cell_type": "code",
   "execution_count": null,
   "metadata": {
    "colab": {
     "base_uri": "https://localhost:8080/"
    },
    "executionInfo": {
     "elapsed": 8846,
     "status": "ok",
     "timestamp": 1734585515906,
     "user": {
      "displayName": "藤吉亨",
      "userId": "10408607038785028470"
     },
     "user_tz": -540
    },
    "id": "HWmMDb5yI9ov",
    "outputId": "e6fe269c-caa2-415b-c4ab-3a4eae06763d"
   },
   "outputs": [],
   "source": [
    "# 被りなしで instance_number を f'instance_number_{i}' に格納する関数\n",
    "def assign_unique_instance_numbers(group, max_instances=10):\n",
    "    # 重複を排除\n",
    "    unique_instance_numbers = group['instance_number'].drop_duplicates().reset_index(drop=True)\n",
    "\n",
    "    # 新しいカラム用の辞書を作成\n",
    "    new_row = {}\n",
    "    for i in range(max_instances):\n",
    "        if i < len(unique_instance_numbers):\n",
    "            new_row[f'instance_number_{i}'] = unique_instance_numbers[i]\n",
    "        else:\n",
    "            new_row[f'instance_number_{i}'] = unique_instance_numbers[0]\n",
    "\n",
    "    # groupの最初の行の情報を保持（他の列）\n",
    "    first_row = group.iloc[0].to_dict()\n",
    "    first_row.update(new_row)\n",
    "\n",
    "    return pd.Series(first_row)\n",
    "\n",
    "# study_id と level ごとにグループ化し、各グループに対して処理を適用\n",
    "grouped_df_s2 = padded_df.groupby(['study_id', 'level']).apply(assign_unique_instance_numbers).reset_index(drop=True)\n",
    "\n",
    "# 結果の確認"
   ]
  },
  {
   "cell_type": "code",
   "execution_count": null,
   "metadata": {
    "executionInfo": {
     "elapsed": 389,
     "status": "ok",
     "timestamp": 1734585824373,
     "user": {
      "displayName": "藤吉亨",
      "userId": "10408607038785028470"
     },
     "user_tz": -540
    },
    "id": "rsBVoa83Xq9n"
   },
   "outputs": [],
   "source": [
    "grouped_df_s2=grouped_df_s2[grouped_df_s2['label'].notna()]"
   ]
  },
  {
   "cell_type": "code",
   "execution_count": null,
   "metadata": {
    "executionInfo": {
     "elapsed": 397,
     "status": "ok",
     "timestamp": 1734585875641,
     "user": {
      "displayName": "藤吉亨",
      "userId": "10408607038785028470"
     },
     "user_tz": -540
    },
    "id": "T-AX8wZdX0jS"
   },
   "outputs": [],
   "source": [
    "grouped_df_s2.reset_index(drop=True,inplace=True)"
   ]
  },
  {
   "cell_type": "code",
   "execution_count": null,
   "metadata": {
    "executionInfo": {
     "elapsed": 552,
     "status": "ok",
     "timestamp": 1734585879180,
     "user": {
      "displayName": "藤吉亨",
      "userId": "10408607038785028470"
     },
     "user_tz": -540
    },
    "id": "E3nugK1hL8kE"
   },
   "outputs": [],
   "source": [
    "grouped_df_s2.to_pickle('/content/drive/MyDrive/RSNA_csv/grouped_df_s2_rev.pkl')"
   ]
  },
  {
   "cell_type": "markdown",
   "metadata": {
    "id": "AY3577dULXvb"
   },
   "source": [
    "# 画像認識モデル学習部分"
   ]
  },
  {
   "cell_type": "code",
   "execution_count": null,
   "metadata": {
    "executionInfo": {
     "elapsed": 1077,
     "status": "ok",
     "timestamp": 1734585561255,
     "user": {
      "displayName": "藤吉亨",
      "userId": "10408607038785028470"
     },
     "user_tz": -540
    },
    "id": "4whKjVJdLi-p"
   },
   "outputs": [],
   "source": [
    "grouped_df_s2 = pd.read_pickle('/content/drive/MyDrive/RSNA_csv/grouped_df_s2_rev.pkl')"
   ]
  },
  {
   "cell_type": "code",
   "execution_count": null,
   "metadata": {
    "colab": {
     "base_uri": "https://localhost:8080/"
    },
    "executionInfo": {
     "elapsed": 1434,
     "status": "ok",
     "timestamp": 1734585565092,
     "user": {
      "displayName": "藤吉亨",
      "userId": "10408607038785028470"
     },
     "user_tz": -540
    },
    "id": "8BbWyUyNOBRV",
    "outputId": "45544cb1-ccbc-4fa0-8fe1-dd26601b6473"
   },
   "outputs": [],
   "source": [
    "import albumentations as A\n",
    "\n",
    "AUG_PROB = 0.75\n",
    "transforms_train = A.Compose([\n",
    "    A.RandomBrightnessContrast(brightness_limit=(-0.2, 0.2), contrast_limit=(-0.2, 0.2), p=AUG_PROB),\n",
    "    A.OneOf([\n",
    "        A.MotionBlur(blur_limit=5),\n",
    "        # A.MedianBlur(blur_limit=5),\n",
    "        A.GaussianBlur(blur_limit=5),\n",
    "        A.GaussNoise(var_limit=(5.0, 30.0)),\n",
    "    ], p=AUG_PROB),\n",
    "\n",
    "    A.OneOf([\n",
    "        A.OpticalDistortion(distort_limit=1.0),\n",
    "        A.GridDistortion(num_steps=5, distort_limit=1.),\n",
    "        A.ElasticTransform(alpha=3),\n",
    "    ], p=AUG_PROB),\n",
    "\n",
    "    A.ShiftScaleRotate(shift_limit=0.1, scale_limit=0.1, rotate_limit=15, border_mode=0, p=AUG_PROB),\n",
    "  #  A.CoarseDropout(max_holes=15, max_height=8, max_width=8, min_holes=1, min_height=8, min_width=8, p=AUG_PROB),\n",
    "])"
   ]
  },
  {
   "cell_type": "code",
   "execution_count": null,
   "metadata": {
    "executionInfo": {
     "elapsed": 932,
     "status": "ok",
     "timestamp": 1734585569607,
     "user": {
      "displayName": "藤吉亨",
      "userId": "10408607038785028470"
     },
     "user_tz": -540
    },
    "id": "D67VjVCnLm_A"
   },
   "outputs": [],
   "source": [
    "patch_size=90"
   ]
  },
  {
   "cell_type": "code",
   "execution_count": null,
   "metadata": {
    "executionInfo": {
     "elapsed": 450,
     "status": "ok",
     "timestamp": 1734585571540,
     "user": {
      "displayName": "藤吉亨",
      "userId": "10408607038785028470"
     },
     "user_tz": -540
    },
    "id": "R6FP4YfUOKz-"
   },
   "outputs": [],
   "source": [
    "import torch.nn.functional as F\n",
    "class ViT_T1_Dataset(Dataset):\n",
    "    def __init__(self, df, UNet, VALID=False, P=patch_size, alpha=0,transform=None):\n",
    "        self.data = df\n",
    "        self.UNet = UNet\n",
    "        self.VALID = VALID\n",
    "        self.P = P\n",
    "        self.alpha = alpha\n",
    "        self.transform = transform\n",
    "\n",
    "    def __len__(self):\n",
    "        return len(self.data)\n",
    "\n",
    "    def __getitem__(self, index):\n",
    "        x = np.zeros((10, self.P, self.P), dtype=np.float32)\n",
    "        non_zero_slice=[]\n",
    "\n",
    "        for i in range(10):\n",
    "\n",
    "          sample = '/content/train_images/'\n",
    "          sample = sample+str(self.data.iloc[index]['study_id'])+'/'+str(self.data.iloc[index]['series_id'])+'/'+str(self.data.iloc[index][f'instance_number_{i}'])+'.dcm'\n",
    "\n",
    "          image = pydicom.dcmread(sample).pixel_array\n",
    "          H,W = image.shape\n",
    "          # centers = torch.as_tensor([x for x in row[coor]]).view(5,2).float()\n",
    "          # By plane resizing I've been distorting the proportions\n",
    "          if H > W:\n",
    "              d = W\n",
    "              h = (H - d)//2\n",
    "              image = image[h:h+d]\n",
    "              # centers[:,1] -= h\n",
    "              H = W\n",
    "          elif H < W:\n",
    "              d = H\n",
    "              w = (W - d)//2\n",
    "              image = image[:,w:w+d]\n",
    "              # centers[:,0] -= w\n",
    "              W = H\n",
    "          image = cv2.resize(image,(PATCH_SIZE,PATCH_SIZE))\n",
    "          image = torch.as_tensor(image/(np.max(image))).unsqueeze(0).unsqueeze(0).float().to(device)\n",
    "\n",
    "          # OUT = 0\n",
    "          # with torch.no_grad():\n",
    "                  # for rot in [0,1,2,3]:\n",
    "                          # OUT += torch.rot90(self.UNet(torch.rot90(image,rot,dims=[-2, -1])),-rot,dims=[-2, -1])\n",
    "          OUT=self.UNet(image)\n",
    "          OUT = (OUT > TH)[0]\n",
    "          c = (OUT.unsqueeze(1)*idx_map[0]).view(5,2,PATCH_SIZE*PATCH_SIZE).sum(-1)\n",
    "          d = OUT.view(5,PATCH_SIZE*PATCH_SIZE).sum(-1)\n",
    "          m = d > 0\n",
    "          c[m] = (c[m]/(d[m]).unsqueeze(-1)).long()\n",
    "          c[~m] = self.P # I have to find a better solution\n",
    "\n",
    "          image_slices = []\n",
    "\n",
    "          for xy in c:\n",
    "            y_start = max(0, xy[1] - self.P // 2)\n",
    "            y_end = min(512,xy[1] + self.P - self.P // 2)\n",
    "            x_start = max(0, xy[0] - self.P // 2)\n",
    "            x_end = min(512,xy[0] + self.P - self.P // 2)\n",
    "\n",
    "    # スライスが有効なサイズを持つか確認\n",
    "            if (y_end - y_start == self.P) and (x_end - x_start == self.P):\n",
    "              slice_img = image[0, 0, y_start:y_end, x_start:x_end]\n",
    "              non_zero_slice.append(slice_img)\n",
    "              image_slices.append(slice_img)\n",
    "            else:\n",
    "              zero_slice = torch.zeros((self.P, self.P), device=image.device)\n",
    "              image_slices.append(zero_slice)\n",
    "              # print(f\"Skipped slice due to incorrect size: {(y_end - y_start, x_end - x_start)}\")\n",
    "              # print(f\"Slice coordinates: {(xy[1], xy[0])}\")\n",
    "\n",
    "# スライスがあればスタックする\n",
    "          if image_slices:\n",
    "            try:\n",
    "              image = torch.stack(image_slices)\n",
    "            except RuntimeError as e:\n",
    "              print(f\"Error: {e}\")\n",
    "          else:\n",
    "            print(\"No valid slices available for stacking.\")\n",
    "\n",
    "          # if not self.VALID: image = augment_image(image,self.alpha)\n",
    "          x[i,...]=image[self.data.iloc[index]['level']].cpu().numpy()\n",
    "\n",
    "        for i in range(10):\n",
    "          if (x[i,...].sum() == 0) and (len(non_zero_slice)>0):\n",
    "            x[i,...] = non_zero_slice[0].cpu().numpy()\n",
    "          else:\n",
    "            pass\n",
    "          #nothing\n",
    "        if self.transform is not None:\n",
    "          x = self.transform(image=x)['image']\n",
    "        x=torch.as_tensor(x).float()\n",
    "        x = F.interpolate(x.unsqueeze(0), size=(224, 224), mode='bilinear', align_corners=False).squeeze(0)\n",
    "        label = torch.as_tensor(labels[self.data.iloc[index]['label']])\n",
    "\n",
    "        return [x.to(device),m.to(device)],[label.to(device),m[self.data.iloc[index]['level']].to(device)]\n"
   ]
  },
  {
   "cell_type": "code",
   "execution_count": null,
   "metadata": {
    "executionInfo": {
     "elapsed": 440,
     "status": "ok",
     "timestamp": 1734585587912,
     "user": {
      "displayName": "藤吉亨",
      "userId": "10408607038785028470"
     },
     "user_tz": -540
    },
    "id": "Rzf5eReiOSsh"
   },
   "outputs": [],
   "source": [
    "def myLoss(preds,target):\n",
    "    target,mask = target\n",
    "    # target=target[mask]\n",
    "    # preds = preds[mask.view(-1)]\n",
    "    return nn.CrossEntropyLoss(weight=torch.as_tensor([1.,2.,4.]).to(device))(preds+1e-12,target)"
   ]
  },
  {
   "cell_type": "code",
   "execution_count": null,
   "metadata": {
    "colab": {
     "base_uri": "https://localhost:8080/"
    },
    "executionInfo": {
     "elapsed": 5119,
     "status": "ok",
     "timestamp": 1734585594744,
     "user": {
      "displayName": "藤吉亨",
      "userId": "10408607038785028470"
     },
     "user_tz": -540
    },
    "id": "oG0oc0EbOco5",
    "outputId": "ae360fc9-7596-4cf9-8b2a-462929203f10"
   },
   "outputs": [],
   "source": [
    "pip install timm"
   ]
  },
  {
   "cell_type": "code",
   "execution_count": null,
   "metadata": {
    "executionInfo": {
     "elapsed": 2,
     "status": "ok",
     "timestamp": 1734585596946,
     "user": {
      "displayName": "藤吉亨",
      "userId": "10408607038785028470"
     },
     "user_tz": -540
    },
    "id": "VYTpqCyLOrO-"
   },
   "outputs": [],
   "source": [
    "import timm\n",
    "class ViT(nn.Module):\n",
    "    def __init__(self, num_classes):\n",
    "        super(ViT, self).__init__()\n",
    "        # ここにViTのモデルアーキテクチャを実装\n",
    "        self.vit = timm.create_model('eva02_base_patch14_224', pretrained=True, num_classes=num_classes,in_chans=10)\n",
    "        # self.vit.features.conv0=nn.Conv2d(5, 64, kernel_size=(7, 7), stride=(2, 2), padding=(3, 3), bias=False)\n",
    "        # self.new_model=nn.Sequential(*self.layer)\n",
    "    def forward(self, x):\n",
    "        # ここに順伝播の処理を実装\n",
    "        x,mask=x\n",
    "        return self.vit(x)"
   ]
  },
  {
   "cell_type": "code",
   "execution_count": null,
   "metadata": {
    "colab": {
     "base_uri": "https://localhost:8080/",
     "height": 217
    },
    "executionInfo": {
     "elapsed": 1456,
     "status": "error",
     "timestamp": 1734585598400,
     "user": {
      "displayName": "藤吉亨",
      "userId": "10408607038785028470"
     },
     "user_tz": -540
    },
    "id": "7E5Qc3dwOusi",
    "outputId": "87c3f792-ca6a-4bdd-8060-e7c2ac2c89fa"
   },
   "outputs": [],
   "source": [
    "seed_everything(SEED)\n",
    "with open('/content/drive/MyDrive/RSNA_csv/'+\"SEG_\"+str(fold)+\".pkl\", 'rb') as f:\n",
    "  UNet=pickle.load(f)\n",
    "tds = ViT_T1_Dataset(tdf2,UNet)\n",
    "vds = ViT_T1_Dataset(vdf2,UNet,VALID=True)"
   ]
  },
  {
   "cell_type": "code",
   "execution_count": null,
   "metadata": {
    "executionInfo": {
     "elapsed": 867,
     "status": "ok",
     "timestamp": 1734585613325,
     "user": {
      "displayName": "藤吉亨",
      "userId": "10408607038785028470"
     },
     "user_tz": -540
    },
    "id": "POaEQn0POyG4"
   },
   "outputs": [],
   "source": [
    "unique_studies = grouped_df_s2['study_id'].unique()\n",
    "study_mapping = {study: (i % 5) + 1 for i, study in enumerate(unique_studies)}\n",
    "\n",
    "# Map the numbers back to the original DataFrame\n",
    "grouped_df_s2['series_description2'] = grouped_df_s2['study_id'].map(study_mapping)\n"
   ]
  },
  {
   "cell_type": "code",
   "execution_count": null,
   "metadata": {
    "executionInfo": {
     "elapsed": 976,
     "status": "ok",
     "timestamp": 1734585618325,
     "user": {
      "displayName": "藤吉亨",
      "userId": "10408607038785028470"
     },
     "user_tz": -540
    },
    "id": "kgifbKrJO6BC"
   },
   "outputs": [],
   "source": [
    "tdf2=grouped_df_s2[grouped_df_s2['series_description2'] != fold]\n",
    "vdf2=grouped_df_s2[grouped_df_s2['series_description2'] == fold]"
   ]
  },
  {
   "cell_type": "code",
   "execution_count": null,
   "metadata": {
    "executionInfo": {
     "elapsed": 1045,
     "status": "ok",
     "timestamp": 1734585621563,
     "user": {
      "displayName": "藤吉亨",
      "userId": "10408607038785028470"
     },
     "user_tz": -540
    },
    "id": "VtcJyEfNO-40"
   },
   "outputs": [],
   "source": [
    "from fastai.callback.core import Callback\n",
    "\n",
    "class SaveModelCallback(Callback):\n",
    "    def __init__(self, every_epoch=False, path='models', fname='model',with_opt=False):\n",
    "        self.every_epoch = every_epoch\n",
    "        self.path = path\n",
    "        self.fname = fname\n",
    "        self.with_opt=with_opt\n",
    "\n",
    "    def after_epoch(self):\n",
    "        # エポックごとにモデルを保存する\n",
    "        if self.every_epoch:\n",
    "            self.learn.save(f'{self.path}/{self.fname}_ep_{self.epoch}')\n",
    "\n",
    "save_model_cb = SaveModelCallback(every_epoch=True, path='/content/drive/MyDrive/RSNA_csv', fname=f\"eva_sagt2_aug_p_90_ch_10_f_{fold}\",with_opt=True)"
   ]
  },
  {
   "cell_type": "code",
   "execution_count": null,
   "metadata": {
    "colab": {
     "base_uri": "https://localhost:8080/",
     "height": 660,
     "referenced_widgets": [
      "ca0046dc2458491cb3fce4a669dc835a",
      "074431e4969441458d5cdff22b8c5e6d",
      "05badea33a0b43bfa6e14c6db4940641",
      "f8b7358c0f5348d588a3c5e4c80742de",
      "29e3412948514b8f80ca95f80f7552dc",
      "6ab7e8eccd164305b88d77527b06575b",
      "d1fcc1fbbc194e1baee11d07f7e80ac5",
      "ae1176203a6f441799f5268595514e2c",
      "e8dd469c13874ae18334fcc2f3f6636e",
      "d0fe54222ea342a89ecf20d980bde5ff",
      "85767119feae42bcabd1d5366014c0d0"
     ]
    },
    "executionInfo": {
     "elapsed": 63967,
     "status": "error",
     "timestamp": 1734585689702,
     "user": {
      "displayName": "藤吉亨",
      "userId": "10408607038785028470"
     },
     "user_tz": -540
    },
    "id": "6Cg8CocxPGFL",
    "outputId": "74d1f00e-717f-49a5-afe2-18877b02fd81"
   },
   "outputs": [],
   "source": [
    "if 1:\n",
    "    seed_everything(SEED)\n",
    "    with open('/content/drive/MyDrive/RSNA_csv/'+\"SEG_\"+\"SCS_\"+\"1\"+\".pkl\", 'rb') as f:\n",
    "      UNet=pickle.load(f)\n",
    "    tds = ViT_T1_Dataset(tdf2,UNet,transform=transforms_train)\n",
    "    vds = ViT_T1_Dataset(vdf2,UNet,VALID=True)\n",
    "    tdl = torch.utils.data.DataLoader(tds, batch_size=16, shuffle=True, drop_last=True)\n",
    "    vdl = torch.utils.data.DataLoader(vds, batch_size=16, shuffle=False)\n",
    "\n",
    "    dls = DataLoaders(tdl,vdl)\n",
    "\n",
    "    n_iter = len(tds)//INF['BS']\n",
    "\n",
    "    model = ViT(num_classes=3)\n",
    "    model.to(device)\n",
    "    learn = Learner(\n",
    "        dls,\n",
    "        model,\n",
    "        lr=INF['LR'],\n",
    "        loss_func=myLoss,\n",
    "        cbs=[\n",
    "            save_model_cb,\n",
    "            GradientClip,\n",
    "            ShowGraphCallback(),\n",
    "            # alpha_cb\n",
    "        ]\n",
    "    )\n",
    "    learn.fit_one_cycle(INF['EPOCHS'])\n",
    "    # with open('/content/drive/MyDrive/RSNA_csv/'+\"VIT_\"+str(fold)+\".pkl\", 'wb') as f:\n",
    "      # pickle.dump(model, f)"
   ]
  }
 ],
 "metadata": {
  "accelerator": "GPU",
  "colab": {
   "authorship_tag": "ABX9TyNsYyC/9ImPEaHtQFfO7Wrf",
   "gpuType": "T4",
   "mount_file_id": "1cSv7162HSq9UXqS5HemmE8fx5rTqPvHe",
   "provenance": []
  },
  "kernelspec": {
   "display_name": "Python 3",
   "name": "python3"
  },
  "language_info": {
   "name": "python"
  },
  "widgets": {
   "application/vnd.jupyter.widget-state+json": {
    "05badea33a0b43bfa6e14c6db4940641": {
     "model_module": "@jupyter-widgets/controls",
     "model_module_version": "1.5.0",
     "model_name": "FloatProgressModel",
     "state": {
      "_dom_classes": [],
      "_model_module": "@jupyter-widgets/controls",
      "_model_module_version": "1.5.0",
      "_model_name": "FloatProgressModel",
      "_view_count": null,
      "_view_module": "@jupyter-widgets/controls",
      "_view_module_version": "1.5.0",
      "_view_name": "ProgressView",
      "bar_style": "success",
      "description": "",
      "description_tooltip": null,
      "layout": "IPY_MODEL_ae1176203a6f441799f5268595514e2c",
      "max": 343057022,
      "min": 0,
      "orientation": "horizontal",
      "style": "IPY_MODEL_e8dd469c13874ae18334fcc2f3f6636e",
      "value": 343057022
     }
    },
    "074431e4969441458d5cdff22b8c5e6d": {
     "model_module": "@jupyter-widgets/controls",
     "model_module_version": "1.5.0",
     "model_name": "HTMLModel",
     "state": {
      "_dom_classes": [],
      "_model_module": "@jupyter-widgets/controls",
      "_model_module_version": "1.5.0",
      "_model_name": "HTMLModel",
      "_view_count": null,
      "_view_module": "@jupyter-widgets/controls",
      "_view_module_version": "1.5.0",
      "_view_name": "HTMLView",
      "description": "",
      "description_tooltip": null,
      "layout": "IPY_MODEL_6ab7e8eccd164305b88d77527b06575b",
      "placeholder": "​",
      "style": "IPY_MODEL_d1fcc1fbbc194e1baee11d07f7e80ac5",
      "value": "model.safetensors: 100%"
     }
    },
    "29e3412948514b8f80ca95f80f7552dc": {
     "model_module": "@jupyter-widgets/base",
     "model_module_version": "1.2.0",
     "model_name": "LayoutModel",
     "state": {
      "_model_module": "@jupyter-widgets/base",
      "_model_module_version": "1.2.0",
      "_model_name": "LayoutModel",
      "_view_count": null,
      "_view_module": "@jupyter-widgets/base",
      "_view_module_version": "1.2.0",
      "_view_name": "LayoutView",
      "align_content": null,
      "align_items": null,
      "align_self": null,
      "border": null,
      "bottom": null,
      "display": null,
      "flex": null,
      "flex_flow": null,
      "grid_area": null,
      "grid_auto_columns": null,
      "grid_auto_flow": null,
      "grid_auto_rows": null,
      "grid_column": null,
      "grid_gap": null,
      "grid_row": null,
      "grid_template_areas": null,
      "grid_template_columns": null,
      "grid_template_rows": null,
      "height": null,
      "justify_content": null,
      "justify_items": null,
      "left": null,
      "margin": null,
      "max_height": null,
      "max_width": null,
      "min_height": null,
      "min_width": null,
      "object_fit": null,
      "object_position": null,
      "order": null,
      "overflow": null,
      "overflow_x": null,
      "overflow_y": null,
      "padding": null,
      "right": null,
      "top": null,
      "visibility": null,
      "width": null
     }
    },
    "6ab7e8eccd164305b88d77527b06575b": {
     "model_module": "@jupyter-widgets/base",
     "model_module_version": "1.2.0",
     "model_name": "LayoutModel",
     "state": {
      "_model_module": "@jupyter-widgets/base",
      "_model_module_version": "1.2.0",
      "_model_name": "LayoutModel",
      "_view_count": null,
      "_view_module": "@jupyter-widgets/base",
      "_view_module_version": "1.2.0",
      "_view_name": "LayoutView",
      "align_content": null,
      "align_items": null,
      "align_self": null,
      "border": null,
      "bottom": null,
      "display": null,
      "flex": null,
      "flex_flow": null,
      "grid_area": null,
      "grid_auto_columns": null,
      "grid_auto_flow": null,
      "grid_auto_rows": null,
      "grid_column": null,
      "grid_gap": null,
      "grid_row": null,
      "grid_template_areas": null,
      "grid_template_columns": null,
      "grid_template_rows": null,
      "height": null,
      "justify_content": null,
      "justify_items": null,
      "left": null,
      "margin": null,
      "max_height": null,
      "max_width": null,
      "min_height": null,
      "min_width": null,
      "object_fit": null,
      "object_position": null,
      "order": null,
      "overflow": null,
      "overflow_x": null,
      "overflow_y": null,
      "padding": null,
      "right": null,
      "top": null,
      "visibility": null,
      "width": null
     }
    },
    "85767119feae42bcabd1d5366014c0d0": {
     "model_module": "@jupyter-widgets/controls",
     "model_module_version": "1.5.0",
     "model_name": "DescriptionStyleModel",
     "state": {
      "_model_module": "@jupyter-widgets/controls",
      "_model_module_version": "1.5.0",
      "_model_name": "DescriptionStyleModel",
      "_view_count": null,
      "_view_module": "@jupyter-widgets/base",
      "_view_module_version": "1.2.0",
      "_view_name": "StyleView",
      "description_width": ""
     }
    },
    "ae1176203a6f441799f5268595514e2c": {
     "model_module": "@jupyter-widgets/base",
     "model_module_version": "1.2.0",
     "model_name": "LayoutModel",
     "state": {
      "_model_module": "@jupyter-widgets/base",
      "_model_module_version": "1.2.0",
      "_model_name": "LayoutModel",
      "_view_count": null,
      "_view_module": "@jupyter-widgets/base",
      "_view_module_version": "1.2.0",
      "_view_name": "LayoutView",
      "align_content": null,
      "align_items": null,
      "align_self": null,
      "border": null,
      "bottom": null,
      "display": null,
      "flex": null,
      "flex_flow": null,
      "grid_area": null,
      "grid_auto_columns": null,
      "grid_auto_flow": null,
      "grid_auto_rows": null,
      "grid_column": null,
      "grid_gap": null,
      "grid_row": null,
      "grid_template_areas": null,
      "grid_template_columns": null,
      "grid_template_rows": null,
      "height": null,
      "justify_content": null,
      "justify_items": null,
      "left": null,
      "margin": null,
      "max_height": null,
      "max_width": null,
      "min_height": null,
      "min_width": null,
      "object_fit": null,
      "object_position": null,
      "order": null,
      "overflow": null,
      "overflow_x": null,
      "overflow_y": null,
      "padding": null,
      "right": null,
      "top": null,
      "visibility": null,
      "width": null
     }
    },
    "ca0046dc2458491cb3fce4a669dc835a": {
     "model_module": "@jupyter-widgets/controls",
     "model_module_version": "1.5.0",
     "model_name": "HBoxModel",
     "state": {
      "_dom_classes": [],
      "_model_module": "@jupyter-widgets/controls",
      "_model_module_version": "1.5.0",
      "_model_name": "HBoxModel",
      "_view_count": null,
      "_view_module": "@jupyter-widgets/controls",
      "_view_module_version": "1.5.0",
      "_view_name": "HBoxView",
      "box_style": "",
      "children": [
       "IPY_MODEL_074431e4969441458d5cdff22b8c5e6d",
       "IPY_MODEL_05badea33a0b43bfa6e14c6db4940641",
       "IPY_MODEL_f8b7358c0f5348d588a3c5e4c80742de"
      ],
      "layout": "IPY_MODEL_29e3412948514b8f80ca95f80f7552dc"
     }
    },
    "d0fe54222ea342a89ecf20d980bde5ff": {
     "model_module": "@jupyter-widgets/base",
     "model_module_version": "1.2.0",
     "model_name": "LayoutModel",
     "state": {
      "_model_module": "@jupyter-widgets/base",
      "_model_module_version": "1.2.0",
      "_model_name": "LayoutModel",
      "_view_count": null,
      "_view_module": "@jupyter-widgets/base",
      "_view_module_version": "1.2.0",
      "_view_name": "LayoutView",
      "align_content": null,
      "align_items": null,
      "align_self": null,
      "border": null,
      "bottom": null,
      "display": null,
      "flex": null,
      "flex_flow": null,
      "grid_area": null,
      "grid_auto_columns": null,
      "grid_auto_flow": null,
      "grid_auto_rows": null,
      "grid_column": null,
      "grid_gap": null,
      "grid_row": null,
      "grid_template_areas": null,
      "grid_template_columns": null,
      "grid_template_rows": null,
      "height": null,
      "justify_content": null,
      "justify_items": null,
      "left": null,
      "margin": null,
      "max_height": null,
      "max_width": null,
      "min_height": null,
      "min_width": null,
      "object_fit": null,
      "object_position": null,
      "order": null,
      "overflow": null,
      "overflow_x": null,
      "overflow_y": null,
      "padding": null,
      "right": null,
      "top": null,
      "visibility": null,
      "width": null
     }
    },
    "d1fcc1fbbc194e1baee11d07f7e80ac5": {
     "model_module": "@jupyter-widgets/controls",
     "model_module_version": "1.5.0",
     "model_name": "DescriptionStyleModel",
     "state": {
      "_model_module": "@jupyter-widgets/controls",
      "_model_module_version": "1.5.0",
      "_model_name": "DescriptionStyleModel",
      "_view_count": null,
      "_view_module": "@jupyter-widgets/base",
      "_view_module_version": "1.2.0",
      "_view_name": "StyleView",
      "description_width": ""
     }
    },
    "e8dd469c13874ae18334fcc2f3f6636e": {
     "model_module": "@jupyter-widgets/controls",
     "model_module_version": "1.5.0",
     "model_name": "ProgressStyleModel",
     "state": {
      "_model_module": "@jupyter-widgets/controls",
      "_model_module_version": "1.5.0",
      "_model_name": "ProgressStyleModel",
      "_view_count": null,
      "_view_module": "@jupyter-widgets/base",
      "_view_module_version": "1.2.0",
      "_view_name": "StyleView",
      "bar_color": null,
      "description_width": ""
     }
    },
    "f8b7358c0f5348d588a3c5e4c80742de": {
     "model_module": "@jupyter-widgets/controls",
     "model_module_version": "1.5.0",
     "model_name": "HTMLModel",
     "state": {
      "_dom_classes": [],
      "_model_module": "@jupyter-widgets/controls",
      "_model_module_version": "1.5.0",
      "_model_name": "HTMLModel",
      "_view_count": null,
      "_view_module": "@jupyter-widgets/controls",
      "_view_module_version": "1.5.0",
      "_view_name": "HTMLView",
      "description": "",
      "description_tooltip": null,
      "layout": "IPY_MODEL_d0fe54222ea342a89ecf20d980bde5ff",
      "placeholder": "​",
      "style": "IPY_MODEL_85767119feae42bcabd1d5366014c0d0",
      "value": " 343M/343M [00:14&lt;00:00, 25.4MB/s]"
     }
    }
   }
  }
 },
 "nbformat": 4,
 "nbformat_minor": 0
}
