{
 "cells": [
  {
   "cell_type": "markdown",
   "metadata": {
    "id": "xKIyUkx6GpTc"
   },
   "source": [
    "# Unetのセグメンテーションモデル"
   ]
  },
  {
   "cell_type": "code",
   "execution_count": null,
   "metadata": {
    "colab": {
     "base_uri": "https://localhost:8080/"
    },
    "executionInfo": {
     "elapsed": 5734,
     "status": "ok",
     "timestamp": 1737075821891,
     "user": {
      "displayName": "藤吉亨",
      "userId": "10408607038785028470"
     },
     "user_tz": -540
    },
    "id": "PA3k1pjGGrZQ",
    "outputId": "dcb524d7-8e67-4e4f-c118-6598a8a6d1b9"
   },
   "outputs": [],
   "source": [
    "pip install segmentation_models_pytorch"
   ]
  },
  {
   "cell_type": "code",
   "execution_count": null,
   "metadata": {
    "colab": {
     "base_uri": "https://localhost:8080/"
    },
    "executionInfo": {
     "elapsed": 3567,
     "status": "ok",
     "timestamp": 1737075825456,
     "user": {
      "displayName": "藤吉亨",
      "userId": "10408607038785028470"
     },
     "user_tz": -540
    },
    "id": "Mt5XKy7fGyK3",
    "outputId": "828e876b-d517-44bd-ed06-1c4d0a453258"
   },
   "outputs": [],
   "source": [
    "pip install pydicom"
   ]
  },
  {
   "cell_type": "code",
   "execution_count": null,
   "metadata": {
    "colab": {
     "base_uri": "https://localhost:8080/"
    },
    "executionInfo": {
     "elapsed": 2041,
     "status": "ok",
     "timestamp": 1737075827495,
     "user": {
      "displayName": "藤吉亨",
      "userId": "10408607038785028470"
     },
     "user_tz": -540
    },
    "id": "JzHe2EUReMXW",
    "outputId": "e23986a0-8329-4009-e381-705899da12e1"
   },
   "outputs": [],
   "source": [
    "pip install timm"
   ]
  },
  {
   "cell_type": "code",
   "execution_count": null,
   "metadata": {
    "executionInfo": {
     "elapsed": 17812,
     "status": "ok",
     "timestamp": 1737075845304,
     "user": {
      "displayName": "藤吉亨",
      "userId": "10408607038785028470"
     },
     "user_tz": -540
    },
    "id": "hlSfEWixG2Zo"
   },
   "outputs": [],
   "source": [
    "import pandas as pd\n",
    "import matplotlib.pyplot as plt\n",
    "import cv2\n",
    "import pydicom\n",
    "import numpy as np\n",
    "import os\n",
    "import glob\n",
    "from tqdm import tqdm\n",
    "import gc\n",
    "\n",
    "import torchvision\n",
    "import torch\n",
    "import torch.nn as nn\n",
    "from torch.utils.data import Dataset\n",
    "from fastai.vision.all import *\n",
    "import segmentation_models_pytorch as smp\n",
    "\n",
    "device = torch.device(\"cuda\" if torch.cuda.is_available() else \"cpu\")"
   ]
  },
  {
   "cell_type": "code",
   "execution_count": null,
   "metadata": {
    "executionInfo": {
     "elapsed": 206,
     "status": "ok",
     "timestamp": 1737077568337,
     "user": {
      "displayName": "藤吉亨",
      "userId": "10408607038785028470"
     },
     "user_tz": -540
    },
    "id": "TA3x_C2JG7Pf"
   },
   "outputs": [],
   "source": [
    "CV = 5 #画像分類の学習に用いるクロスバリデーションの数\n",
    "SEED = 777 #シード値\n",
    "fold = 1 #検証用データのfold値\n",
    "PATCH_SIZE = 512 #全体の画像の最終的なサイズ\n",
    "patch_size = 64 #セグメンテーションをして切り取った部分の画像のサイズ\n",
    "TH = .5 #全体の画像から病気であると判定した根拠の部分にマスク値を付けたときの閾値\n",
    "SEG_TRAIN = False#セグメンテーションモデルを動かしたいときはTrueにする\n",
    "SEG = {\n",
    "    'BS':16,#セグメンテーションモデルのバッチサイズ\n",
    "    'LR':5e-4,#セグメンテーションモデルの学習率\n",
    "    'EPOCHS':10#セグメンテーションモデルのエポック数\n",
    "}\n",
    "INF = {\n",
    "    'BS':64,#病気を判定するモデルのバッチサイズ\n",
    "    'LR':1e-5,#病気を判定するモデルの学習率\n",
    "    'EPOCHS':10#病気を判定するモデルのエポック数\n",
    "}"
   ]
  },
  {
   "cell_type": "code",
   "execution_count": null,
   "metadata": {
    "colab": {
     "base_uri": "https://localhost:8080/"
    },
    "executionInfo": {
     "elapsed": 445062,
     "status": "ok",
     "timestamp": 1737076330465,
     "user": {
      "displayName": "藤吉亨",
      "userId": "10408607038785028470"
     },
     "user_tz": -540
    },
    "id": "RXzWT7x5G-1_",
    "outputId": "61883503-746f-4595-df52-0fe1d117c17b"
   },
   "outputs": [],
   "source": [
    "!unzip /content/drive/MyDrive/rsna-2024-lumbar-spine-degenerative-classification.zip -d /content #RSNA2024を今のディレクトリに展開する"
   ]
  },
  {
   "cell_type": "code",
   "execution_count": null,
   "metadata": {
    "colab": {
     "base_uri": "https://localhost:8080/",
     "height": 255
    },
    "executionInfo": {
     "elapsed": 332,
     "status": "ok",
     "timestamp": 1734576396644,
     "user": {
      "displayName": "藤吉亨",
      "userId": "10408607038785028470"
     },
     "user_tz": -540
    },
    "id": "bzrFFsfsHZ5E",
    "outputId": "2fe9df8a-db52-41ed-af50-d6c27dc10b73"
   },
   "outputs": [],
   "source": [
    "train = pd.read_csv('/content/train.csv')#trainを読み込む\n",
    "train.tail()\n",
    "train.tail()"
   ]
  },
  {
   "cell_type": "code",
   "execution_count": null,
   "metadata": {
    "colab": {
     "base_uri": "https://localhost:8080/",
     "height": 255
    },
    "executionInfo": {
     "elapsed": 453,
     "status": "ok",
     "timestamp": 1734576399809,
     "user": {
      "displayName": "藤吉亨",
      "userId": "10408607038785028470"
     },
     "user_tz": -540
    },
    "id": "QdkeOgT5HkRi",
    "outputId": "737b5255-50a0-4ccd-cc90-8ab2f42a6d4b"
   },
   "outputs": [],
   "source": [
    "diagnosis = list(filter(lambda x: x.find('foraminal') > -1, train.columns))\n",
    "train = train[train[diagnosis].isnull().values.sum(1)==0].reset_index(drop=True)\n",
    "train.tail()"
   ]
  },
  {
   "cell_type": "code",
   "execution_count": null,
   "metadata": {
    "executionInfo": {
     "elapsed": 204,
     "status": "ok",
     "timestamp": 1737077513813,
     "user": {
      "displayName": "藤吉亨",
      "userId": "10408607038785028470"
     },
     "user_tz": -540
    },
    "id": "15HMPGB0HoeR"
   },
   "outputs": [],
   "source": [
    "labels = {\n",
    "    'Normal/Mild':0,\n",
    "    'Moderate':1,\n",
    "    'Severe':2\n",
    "}"
   ]
  },
  {
   "cell_type": "code",
   "execution_count": null,
   "metadata": {
    "colab": {
     "base_uri": "https://localhost:8080/",
     "height": 206
    },
    "executionInfo": {
     "elapsed": 694,
     "status": "ok",
     "timestamp": 1734576405762,
     "user": {
      "displayName": "藤吉亨",
      "userId": "10408607038785028470"
     },
     "user_tz": -540
    },
    "id": "tBxR66ZPH3SJ",
    "outputId": "754be3d9-5998-4a56-dbfe-42fe3139faa5"
   },
   "outputs": [],
   "source": [
    "df_meta_f = pd.read_csv('/content/drive/MyDrive/RSNA_csv/train_series_descriptions.csv')\n",
    "df_meta_f.tail()"
   ]
  },
  {
   "cell_type": "code",
   "execution_count": null,
   "metadata": {
    "id": "vjC9WiRFHohP"
   },
   "outputs": [],
   "source": [
    "df_meta_f.rename(columns={'series_description':'series_description_2'},inplace=True)"
   ]
  },
  {
   "cell_type": "code",
   "execution_count": null,
   "metadata": {
    "colab": {
     "base_uri": "https://localhost:8080/",
     "height": 293
    },
    "executionInfo": {
     "elapsed": 310,
     "status": "ok",
     "timestamp": 1734576412150,
     "user": {
      "displayName": "藤吉亨",
      "userId": "10408607038785028470"
     },
     "user_tz": -540
    },
    "id": "dKI680MCHoj8",
    "outputId": "8fb39af3-f929-4832-c53c-b78dd9f5b7c9"
   },
   "outputs": [],
   "source": [
    "df_coor = pd.read_csv('/content/train_label_coordinates.csv')\n",
    "df_coor.tail()"
   ]
  },
  {
   "cell_type": "code",
   "execution_count": null,
   "metadata": {
    "id": "cUk4kHB7Hom5"
   },
   "outputs": [],
   "source": [
    "merged_df = pd.merge(df_coor, df_meta_f, on=['study_id', 'series_id'])"
   ]
  },
  {
   "cell_type": "code",
   "execution_count": null,
   "metadata": {
    "id": "gvshf4TNHopa"
   },
   "outputs": [],
   "source": [
    "SS=merged_df[merged_df['condition'].isin(['Right Subarticular Stenosis','Left Subarticular Stenosis'])]"
   ]
  },
  {
   "cell_type": "code",
   "execution_count": null,
   "metadata": {
    "colab": {
     "base_uri": "https://localhost:8080/"
    },
    "executionInfo": {
     "elapsed": 52673,
     "status": "ok",
     "timestamp": 1734576472800,
     "user": {
      "displayName": "藤吉亨",
      "userId": "10408607038785028470"
     },
     "user_tz": -540
    },
    "id": "w_lo3TRgHpDk",
    "outputId": "7bd6955c-39b6-4730-a8ce-78472061a385"
   },
   "outputs": [],
   "source": [
    "# 新しいカラムを初期化\n",
    "\n",
    "\n",
    "# study_id, series_id, instance_numberごとにグループ化して処理\n",
    "for (study_id, series_id, instance_number), group in SS.groupby(['study_id', 'series_id', 'instance_number']):\n",
    "    # 'Left Subarticular Stenosis' の場合、該当する座標を取得\n",
    "    left_condition = group[group['condition'] == 'Left Subarticular Stenosis']\n",
    "    if not left_condition.empty:\n",
    "        # 対応する座標を取得し、グループに値を一度に設定\n",
    "        SS.loc[(SS['study_id'] == study_id) & (SS['series_id'] == series_id) & (SS['instance_number'] == instance_number), ['x_left', 'y_left']] = \\\n",
    "            left_condition[['x', 'y']].values[0]\n",
    "\n",
    "    # 'Right Subarticular Stenosis' の場合、該当する座標を取得\n",
    "    right_condition = group[group['condition'] == 'Right Subarticular Stenosis']\n",
    "    if not right_condition.empty:\n",
    "        # 対応する座標を取得し、グループに値を一度に設定\n",
    "        SS.loc[(SS['study_id'] == study_id) & (SS['series_id'] == series_id) & (SS['instance_number'] == instance_number), ['x_right', 'y_right']] = \\\n",
    "            right_condition[['x', 'y']].values[0]\n",
    "\n",
    "# 確認\n",
    "print(SS.head())\n"
   ]
  },
  {
   "cell_type": "code",
   "execution_count": null,
   "metadata": {
    "id": "YtIfyKE3IkVN"
   },
   "outputs": [],
   "source": [
    "SS2=SS.dropna()"
   ]
  },
  {
   "cell_type": "code",
   "execution_count": null,
   "metadata": {
    "id": "v_gi2fHMIsNc"
   },
   "outputs": [],
   "source": [
    "SCS=merged_df[merged_df['condition']=='Spinal Canal Stenosis']"
   ]
  },
  {
   "cell_type": "code",
   "execution_count": null,
   "metadata": {
    "colab": {
     "base_uri": "https://localhost:8080/",
     "height": 293
    },
    "executionInfo": {
     "elapsed": 9,
     "status": "ok",
     "timestamp": 1734576472801,
     "user": {
      "displayName": "藤吉亨",
      "userId": "10408607038785028470"
     },
     "user_tz": -540
    },
    "id": "UbfgCwDkJOsC",
    "outputId": "0a4ec6a4-02f6-4bde-e567-45f46ae49f7c"
   },
   "outputs": [],
   "source": [
    "F=df_coor[df_coor['condition'].isin(['Left Subarticular Stenosis','Right Subarticular Stenosis'])][[\n",
    "    'study_id',\n",
    "    'series_id',\n",
    "    'instance_number',\n",
    "    'level',\n",
    "    'condition',\n",
    "    'x',\n",
    "    'y'\n",
    "]].sort_values([\n",
    "    'study_id',\n",
    "    'series_id',\n",
    "    'instance_number'\n",
    "])[[\n",
    "    'study_id',\n",
    "    'series_id',\n",
    "    'level',\n",
    "    'instance_number',\n",
    "    'condition',\n",
    "    'x',\n",
    "    'y'\n",
    "]]\n",
    "F.tail()"
   ]
  },
  {
   "cell_type": "code",
   "execution_count": null,
   "metadata": {
    "colab": {
     "base_uri": "https://localhost:8080/"
    },
    "executionInfo": {
     "elapsed": 8,
     "status": "ok",
     "timestamp": 1734576472801,
     "user": {
      "displayName": "藤吉亨",
      "userId": "10408607038785028470"
     },
     "user_tz": -540
    },
    "id": "-NejB5zxJTTh",
    "outputId": "54825822-6caf-4de5-c4f6-e986a6934523"
   },
   "outputs": [],
   "source": [
    "target = F.columns[-6:-1]\n",
    "target"
   ]
  },
  {
   "cell_type": "code",
   "execution_count": null,
   "metadata": {
    "id": "S8GQ93Y1JXIx"
   },
   "outputs": [],
   "source": [
    "labels = {\n",
    "    'Normal/Mild':0,\n",
    "    'Moderate':1,\n",
    "    'Severe':2\n",
    "}\n",
    "\n",
    "coor = [\n",
    "    'x_left',\n",
    "    'y_left',\n",
    "    'x_right',\n",
    "    'y_right'\n",
    "]"
   ]
  },
  {
   "cell_type": "code",
   "execution_count": null,
   "metadata": {
    "id": "BwiAieVbJZnf"
   },
   "outputs": [],
   "source": [
    "target2=['subarticular_stenosis_l1_l2', 'subarticular_stenosis_l2_l3',\n",
    "       'subarticular_stenosis_l3_l4', 'subarticular_stenosis_l4_l5',\n",
    "       'subarticular_stenosis_l5_s1']"
   ]
  },
  {
   "cell_type": "code",
   "execution_count": null,
   "metadata": {
    "id": "IVUgk_n9JlVw"
   },
   "outputs": [],
   "source": [
    "def augment_image_and_centers(image,centers,alpha):\n",
    "    '''\n",
    "    # Randomly flip the image horizontally.\n",
    "    if random.random() > .5:\n",
    "      if random.random() > 1 - alpha:\n",
    "        image = image.flip(-1)\n",
    "        centers[:,0] = PATCH_SIZE - centers[:,0]\n",
    "    # Randomly flip the image vertically.\n",
    "    if random.random() > 0.5:\n",
    "      if random.random() > 1 - alpha:\n",
    "        image = image.flip(-2)\n",
    "        centers[:,1] = PATCH_SIZE - centers[:,1]\n",
    "\n",
    "    if random.random() > 1 - alpha:\n",
    "      if random.random() > .5:\n",
    "    #   Randomly flip the image\n",
    "    #   Wich axis?\n",
    "         axis = np.random.randint(2)\n",
    "        image = image.flip(axis+1)\n",
    "        centers[:,-1-axis] = PATCH_SIZE - centers[:,-1-axis]\n",
    "    '''\n",
    "#   Randomly rotate the image.\n",
    "    angle = torch.as_tensor(random.uniform(-180, 180)*alpha)\n",
    "    image = torchvision.transforms.functional.rotate(image,angle.item())\n",
    "#   https://discuss.pytorch.org/t/rotation-matrix/128260\n",
    "    angle = angle*math.pi/180\n",
    "    s = torch.sin(angle)\n",
    "    c = torch.cos(angle)\n",
    "    rot = torch.stack([\n",
    "        torch.stack([c, s]),\n",
    "        torch.stack([-s, c])\n",
    "      ])\n",
    "    centers = ((centers.cpu() - PATCH_SIZE//2) @ rot) + PATCH_SIZE//2\n",
    "    return image,centers"
   ]
  },
  {
   "cell_type": "code",
   "execution_count": null,
   "metadata": {
    "id": "ACjwVjfLJdyh"
   },
   "outputs": [],
   "source": [
    "class T1Dataset(Dataset):\n",
    "    def __init__(self, df, VALID=False, alpha=0):\n",
    "        self.data = df\n",
    "        self.VALID = VALID\n",
    "        self.alpha = alpha\n",
    "\n",
    "    def __len__(self):\n",
    "        return len(self.data)\n",
    "\n",
    "    def __getitem__(self, index):\n",
    "        row = self.data.iloc[index]#1行目を取得\n",
    "\n",
    "        centers = torch.as_tensor([x for x in row[coor]]).view(2,2).float()#病気だと判定した中心座標を取得\n",
    "\n",
    "        sample = '/content/drive/MyDrive/dataset/'\n",
    "        sample = sample+str(row['study_id'])+'/'+str(row['series_id'])+'/'+str(row['instance_number'])+'.dcm'\n",
    "        image = pydicom.dcmread(sample).pixel_array#pydicomで画像を読み込む\n",
    "        H,W = image.shape\n",
    "#画像を正方形になるように切り取る。切り取った分中心座標の位置を調整する。\n",
    "        if H > W:\n",
    "            d = W\n",
    "            if not self.VALID:\n",
    "                h = int((H - d)*(.5 + self.alpha*(.5 - np.random.rand())))\n",
    "            else:\n",
    "                h = (H - d)//2\n",
    "            image = image[h:h+d]\n",
    "            centers[:,1] -= h\n",
    "            H = W\n",
    "        elif H < W:\n",
    "            d = H\n",
    "            if not self.VALID:\n",
    "                w = int((W - d)*(.5 + self.alpha*(.5 - np.random.rand())))\n",
    "            else:\n",
    "                w = (W - d)//2\n",
    "            image = image[:,w:w+d]\n",
    "            centers[:,0] -= w\n",
    "            W = H\n",
    "        image = cv2.resize(image,(PATCH_SIZE,PATCH_SIZE))#画像をPATCH_SIZE*PATCH_SIZEにする\n",
    "        image = torch.as_tensor(image/np.max(image)).unsqueeze(0).float()\n",
    "\n",
    "        label = torch.as_tensor(1)#labelは使用しないが適当になにかしら入れておく。\n",
    "\n",
    "        #中心座標の位置を調整する。\n",
    "\n",
    "        centers[:,0] = centers[:,0]*PATCH_SIZE/W\n",
    "        centers[:,1] = centers[:,1]*PATCH_SIZE/H\n",
    "\n",
    "        if not self.VALID: image,centers = augment_image_and_centers(image,centers,self.alpha)\n",
    "        return image.to(device),[label.to(device),centers.to(device)]"
   ]
  },
  {
   "cell_type": "code",
   "execution_count": null,
   "metadata": {
    "id": "5hNLITk2Jjj1"
   },
   "outputs": [],
   "source": [
    "def seed_everything(seed):\n",
    "    random.seed(seed)\n",
    "    np.random.seed(seed)\n",
    "    os.environ[\"PYTHONHASHSEED\"] = str(seed)\n",
    "    torch.manual_seed(seed)\n",
    "    torch.cuda.manual_seed(seed)\n",
    "    torch.backends.cudnn.deterministic = True\n",
    "    torch.backends.cudnn.benchmark = False\n",
    "    #結果の再現性を得るために各種シード値を固定するする関数"
   ]
  },
  {
   "cell_type": "code",
   "execution_count": null,
   "metadata": {
    "executionInfo": {
     "elapsed": 203,
     "status": "ok",
     "timestamp": 1737077536793,
     "user": {
      "displayName": "藤吉亨",
      "userId": "10408607038785028470"
     },
     "user_tz": -540
    },
    "id": "ujO1r5qPKQB-"
   },
   "outputs": [],
   "source": [
    "class myUNet2(nn.Module):\n",
    "    def __init__(self):\n",
    "        super(myUNet2, self).__init__()\n",
    "\n",
    "        self.UNet = smp.Unet(\n",
    "            encoder_name=\"resnet18\",#セグメンテーションモデルのバックボーンはresnet18を使用\n",
    "            classes=2,#2種類のマスクをつける\n",
    "            in_channels=1 #白黒画像なのでチャンネル数は1\n",
    "        ).to(device)\n",
    "\n",
    "    def forward(self,X):\n",
    "        x = self.UNet(X)\n",
    "        min_values = x.view(-1,2,PATCH_SIZE*PATCH_SIZE).min(-1)[0].view(-1,2,1,1)\n",
    "        max_values = x.view(-1,2,PATCH_SIZE*PATCH_SIZE).max(-1)[0].view(-1,2,1,1)\n",
    "        x = (x - min_values)/(max_values - min_values)#全体の画像のテンソルをminmaxscalingで正規化。テンソルのブロードキャスティングに注意すること。\n",
    "\n",
    "        return x"
   ]
  },
  {
   "cell_type": "code",
   "execution_count": null,
   "metadata": {
    "executionInfo": {
     "elapsed": 663,
     "status": "ok",
     "timestamp": 1737077584237,
     "user": {
      "displayName": "藤吉亨",
      "userId": "10408607038785028470"
     },
     "user_tz": -540
    },
    "id": "J1nIVqufKVAM"
   },
   "outputs": [],
   "source": [
    "idx_map = torch.stack([torch.arange(PATCH_SIZE)]*PATCH_SIZE).to(device)\n",
    "idx_map = torch.stack([idx_map,idx_map.T]).view(1,1,2,PATCH_SIZE,PATCH_SIZE)#画像の各地点にx座標の値とy座標の値を格納したものを用意する\n",
    "class myLoss2(nn.Module):\n",
    "    def __init__(\n",
    "            self,\n",
    "            alpha=.5\n",
    "        ):\n",
    "        super().__init__()\n",
    "        self.alpha = alpha\n",
    "\n",
    "    def clone(self):\n",
    "        return myLoss(self.alpha)\n",
    "\n",
    "    def forward(\n",
    "            self,\n",
    "            y,# 予測される病気と判定するマスク値（0～1）\n",
    "            t # 病気だと判定した部分の点座標値\n",
    "        ):\n",
    "        mask_pred = y\n",
    "        _,mask_true = t\n",
    "#       理想的な分布を中心（病気だと判定した部分の座標）から1変数の正規分布を３次元空間上で回転させたような分布（共分散行列がσ^2Iの2次元正規分布ともいえる）であると仮定する。\n",
    "        s2 = s2 = torch.as_tensor([PATCH_SIZE/8]*2)#正規分布の分散(σ^2)のパラメタを設定(２つのマスクをまとめて)\n",
    "#       正規分布のパラメタを以下のように設定する\n",
    "        A = -1/(2*s2).to(device)#正規分布の式全体の係数の設定\n",
    "        K = 1/torch.sqrt(2*math.pi*s2).to(device)#正規分布のexpの中の係数の設定\n",
    "        mask_pred = mask_pred*K.view(1,2,1,1)#mask_predの最大値がKになるように合わせる。これは理想的な分布の最大値がKのためそこに合わせる。\n",
    "        mask = idx_map - mask_true.view(-1,2,2,1,1)#病気だと判定した座標からのx座標とy座標の距離をmaskに格納\n",
    "        mask = torch.exp((A.view(-1,2,1,1,1)*mask*mask).sum(2))*K.view(-1,2,1,1)#x座標とy座標の距離を使って距離に応じた正規分布の値を作りmaskに格納。\n",
    "#       ロスは理想的な分布とのcosine類似度にする。コサイン類似度は2次元のものをそのまま1次元として扱って求める。\n",
    "        D = 1 - ((mask*mask_pred).sum())**2/((mask*mask).sum()*(mask_pred*mask_pred).sum())\n",
    "\n",
    "        return D\n"
   ]
  },
  {
   "cell_type": "code",
   "execution_count": null,
   "metadata": {
    "colab": {
     "base_uri": "https://localhost:8080/"
    },
    "executionInfo": {
     "elapsed": 416,
     "status": "ok",
     "timestamp": 1734576497120,
     "user": {
      "displayName": "藤吉亨",
      "userId": "10408607038785028470"
     },
     "user_tz": -540
    },
    "id": "0JbqIZsaKZCn",
    "outputId": "dbd1582e-5c86-4164-fcc4-ac5ffe82a71d"
   },
   "outputs": [],
   "source": [
    "import numpy as np\n",
    "\n",
    "# SS2の行数を取得\n",
    "n_rows = len(SS2)\n",
    "\n",
    "# 1から5の値を繰り返して作成し、行数に合わせる\n",
    "series_description_values = np.tile([1, 2, 3, 4, 5], n_rows // 5 + 1)[:n_rows]\n",
    "\n",
    "# 新しいカラム 'series_description' に値を代入（locを使用して直接設定）\n",
    "SS2 = SS2.copy()  # 明示的にコピーを作成して変更を加える\n",
    "SS2.loc[:, 'series_description'] = series_description_values\n",
    "\n",
    "# 結果を確認\n",
    "print(SS2.head())\n"
   ]
  },
  {
   "cell_type": "code",
   "execution_count": null,
   "metadata": {
    "id": "TaGRBrJI0ac-"
   },
   "outputs": [],
   "source": [
    "SEG_TRAIN=True"
   ]
  },
  {
   "cell_type": "code",
   "execution_count": null,
   "metadata": {
    "colab": {
     "base_uri": "https://localhost:8080/",
     "height": 501
    },
    "executionInfo": {
     "elapsed": 50869,
     "status": "error",
     "timestamp": 1734576615997,
     "user": {
      "displayName": "藤吉亨",
      "userId": "10408607038785028470"
     },
     "user_tz": -540
    },
    "id": "0T0pol1lKlgV",
    "outputId": "b0457825-d800-4148-b406-6e3df17be147"
   },
   "outputs": [],
   "source": [
    "import pickle\n",
    "\n",
    "tdf = SS2[SS2['series_description'] != fold]\n",
    "vdf = SS2[SS2['series_description'] == fold]\n",
    "\n",
    "\n",
    "\n",
    "tds = T1Dataset(tdf)#定義したdataset関数からtrainのデータを持ってくる。\n",
    "vds = T1Dataset(vdf,VALID=True)#定義したdataset関数からvalidのデータを持ってくる。\n",
    "tdl = torch.utils.data.DataLoader(tds, batch_size=SEG['BS'], shuffle=True, drop_last=True)#バッチサイズを指定してデータローダー化する\n",
    "vdl = torch.utils.data.DataLoader(vds, batch_size=SEG['BS'], shuffle=False)#バッチサイズを指定してデータローダー化する\n",
    "\n",
    "\n",
    "if SEG_TRAIN:\n",
    "    seed_everything(SEED)\n",
    "\n",
    "    dls = DataLoaders(tdl,vdl))#fastai用にデータローダーを定義する。\n",
    "\n",
    "\n",
    "    n_iter = len(tds)//SEG['BS']\n",
    "\n",
    "    model = myUNet2()\n",
    "    learn = Learner(\n",
    "        dls,\n",
    "        model,\n",
    "        lr=SEG['LR'],#学習率を設定\n",
    "        loss_func=myLoss2(alpha=0.5),\n",
    "        # cbs=[\n",
    "        #     ShowGraphCallback(),#学習曲線を表示\n",
    "        #     alpha_cb\n",
    "        # ]\n",
    "    )\n",
    "    learn.fit_one_cycle(SEG['EPOCHS'])#エポック数を設定\n",
    "    with open('/content/drive/MyDrive/RSNA_csv/'+\"SEG_\"+str(fold)+\"_SS\"+\".pkl\", 'wb') as f:\n",
    "      pickle.dump(model, f)\n",
    "    del tdl,vdl,dls,model,learn\n",
    "    gc.collect()"
   ]
  },
  {
   "cell_type": "markdown",
   "metadata": {
    "id": "m3q_Pj5sKqNM"
   },
   "source": [
    "# axialT2画像の前処理"
   ]
  },
  {
   "cell_type": "code",
   "execution_count": null,
   "metadata": {
    "colab": {
     "base_uri": "https://localhost:8080/"
    },
    "executionInfo": {
     "elapsed": 825,
     "status": "ok",
     "timestamp": 1734576748866,
     "user": {
      "displayName": "藤吉亨",
      "userId": "10408607038785028470"
     },
     "user_tz": -540
    },
    "id": "ynFT2uUFKzeG",
    "outputId": "de7204fb-9481-49d3-ac7c-3bf7d7fb6fc3"
   },
   "outputs": [],
   "source": [
    "import os\n",
    "import pandas as pd\n",
    "\n",
    "# データセットのパス\n",
    "base_dir = '/content/train_images/'\n",
    "\n",
    "# リストを初期化\n",
    "data = []\n",
    "\n",
    "# 一番上の階層（study_id）のフォルダをたどる\n",
    "for study_id in os.listdir(base_dir):\n",
    "    study_path = os.path.join(base_dir, study_id)\n",
    "    if os.path.isdir(study_path):\n",
    "        # 二番目の階層（series_id）のフォルダをたどる\n",
    "        for series_id in os.listdir(study_path):\n",
    "            series_path = os.path.join(study_path, series_id)\n",
    "            if os.path.isdir(series_path):\n",
    "                # 三番目の階層（〇〇.dcm ファイル）をたどる\n",
    "                for filename in os.listdir(series_path):\n",
    "                    if filename.endswith('.dcm'):\n",
    "                        # 〇〇.dcm の〇〇部分（instance_number）を抽出\n",
    "                        instance_number = filename.split('.')[0]\n",
    "                        # データを追加\n",
    "                        data.append([study_id, series_id, instance_number])\n",
    "\n",
    "# pandas DataFrameを作成\n",
    "df = pd.DataFrame(data, columns=['study_id', 'series_id', 'instance_number'])\n",
    "\n",
    "# DataFrameの表示\n",
    "print(df)"
   ]
  },
  {
   "cell_type": "code",
   "execution_count": null,
   "metadata": {
    "id": "N5Bdfa3ONVQ3"
   },
   "outputs": [],
   "source": [
    "# new_df = pd.read_csv('/kaggle/input/rsna-2024-lumbar-spine-degenerative-classification/sample_submission.csv')\n",
    "\n",
    "df_meta_f = pd.read_csv('/content/train_series_descriptions.csv')\n",
    "df_meta_f.tail()\n",
    "\n",
    "df = df.astype('int64')\n",
    "\n",
    "all_df = pd.merge(df, df_meta_f, on=['study_id', 'series_id'], how='inner')\n",
    "\n",
    "s_all_df=all_df[all_df['series_description']=='Sagittal T1']\n",
    "\n",
    "a_all_df=all_df[all_df['series_description']=='Axial T2']\n",
    "\n",
    "s2_all_df=all_df[all_df['series_description']=='Sagittal T2/STIR']"
   ]
  },
  {
   "cell_type": "code",
   "execution_count": null,
   "metadata": {
    "colab": {
     "base_uri": "https://localhost:8080/"
    },
    "executionInfo": {
     "elapsed": 1083372,
     "status": "ok",
     "timestamp": 1734577838022,
     "user": {
      "displayName": "藤吉亨",
      "userId": "10408607038785028470"
     },
     "user_tz": -540
    },
    "id": "mgwglnUMNWR2",
    "outputId": "d915d81c-aaad-4eab-ed64-db78fea7eb48"
   },
   "outputs": [],
   "source": [
    "import os\n",
    "import numpy as np\n",
    "\n",
    "# データフレームをコピーして操作\n",
    "a_all_df_copy = a_all_df.copy()\n",
    "\n",
    "# x_pos カラムを NaN で初期化\n",
    "a_all_df_copy['x_pos'] = None\n",
    "a_all_df_copy['y_pos'] = None\n",
    "a_all_df_copy['z_pos'] = None\n",
    "a_all_df_copy['pixel_sp_z'] = None\n",
    "a_all_df_copy['pixel_sp_y'] = None\n",
    "\n",
    "for idx, row in a_all_df_copy.iterrows():\n",
    "    # DICOMファイルのパスを構築\n",
    "    dicom_file_path = f\"/content/train_images/{row['study_id']}/{row['series_id']}/{row['instance_number']}.dcm\"\n",
    "\n",
    "    # DICOMファイルを読み込む\n",
    "    dicom_data = pydicom.dcmread(dicom_file_path)\n",
    "    H,W = dicom_data.pixel_array.shape\n",
    "\n",
    "\n",
    "    # 'Image Position (Patient)' の x 座標を取得して x_pos カラムに格納\n",
    "    a_all_df_copy.loc[idx, 'x_pos'] = dicom_data.ImagePositionPatient[0]\n",
    "    a_all_df_copy.loc[idx, 'y_pos'] = dicom_data.ImagePositionPatient[1]\n",
    "    a_all_df_copy.loc[idx, 'z_pos'] = dicom_data.ImagePositionPatient[2]\n",
    "    a_all_df_copy.loc[idx, 'pixel_sp_z']=dicom_data.PixelSpacing[0]\n",
    "    a_all_df_copy.loc[idx, 'pixel_sp_y']=dicom_data.PixelSpacing[1]\n",
    "    a_all_df_copy.loc[idx, 'H'] = H\n",
    "    a_all_df_copy.loc[idx, 'W'] = W\n",
    "    a_all_df_copy.loc[idx, 'mean_bfr_cut_y'] = H/2\n",
    "    a_all_df_copy.loc[idx, 'mean_bfr_cut_x'] = W/2\n",
    "    a_all_df_copy.loc[idx,'o0']=dicom_data.ImageOrientationPatient[0]\n",
    "    a_all_df_copy.loc[idx,'o1']=dicom_data.ImageOrientationPatient[1]\n",
    "    a_all_df_copy.loc[idx,'o2']=dicom_data.ImageOrientationPatient[2]\n",
    "    a_all_df_copy.loc[idx,'o3']=dicom_data.ImageOrientationPatient[3]\n",
    "    a_all_df_copy.loc[idx,'o4']=dicom_data.ImageOrientationPatient[4]\n",
    "    a_all_df_copy.loc[idx,'o5']=dicom_data.ImageOrientationPatient[5]\n",
    "\n",
    "print(a_all_df_copy)"
   ]
  },
  {
   "cell_type": "code",
   "execution_count": null,
   "metadata": {
    "id": "Zl4tuyLYN_iO"
   },
   "outputs": [],
   "source": [
    "a_all_df_copy = a_all_df_copy.reset_index(drop=True)\n",
    "\n",
    "\n",
    "a_all_df=a_all_df_copy\n"
   ]
  },
  {
   "cell_type": "code",
   "execution_count": null,
   "metadata": {
    "id": "bGaPG_hc2XyY"
   },
   "outputs": [],
   "source": [
    "with open('/content/drive/MyDrive/RSNA_csv/'+\"SEG_\"+\"1\"+\"_SS\"+\".pkl\", 'rb') as f:\n",
    "      model2=pickle.load(f)"
   ]
  },
  {
   "cell_type": "code",
   "execution_count": null,
   "metadata": {
    "colab": {
     "base_uri": "https://localhost:8080/"
    },
    "executionInfo": {
     "elapsed": 2690938,
     "status": "ok",
     "timestamp": 1734580534170,
     "user": {
      "displayName": "藤吉亨",
      "userId": "10408607038785028470"
     },
     "user_tz": -540
    },
    "id": "Cr_mdfODOSj5",
    "outputId": "76433463-c4c5-42a2-c9f2-53c95ee9b340"
   },
   "outputs": [],
   "source": [
    "import torch\n",
    "\n",
    "# (OUT > 0.5)[0][1] がテンソルマスクだと仮定\n",
    "a_all_df_copy = a_all_df.copy()\n",
    "for j in range(len(a_all_df)):\n",
    "\n",
    "  # a_all_df[['study_id', 'series_id', 'instance_number']] = a_all_df[['study_id', 'series_id', 'instance_number']].astype(int)\n",
    "  image=pydicom.dcmread(\"/content/train_images/\"+str(a_all_df_copy.iloc[j][\"study_id\"])+\"/\"+str(a_all_df_copy.iloc[j][\"series_id\"])+\"/\"+str(a_all_df_copy.iloc[j][\"instance_number\"])+\".dcm\").pixel_array\n",
    "  dicom=pydicom.dcmread(\"/content/train_images/\"+str(a_all_df_copy.iloc[j][\"study_id\"])+\"/\"+str(a_all_df_copy.iloc[j][\"series_id\"])+\"/\"+str(a_all_df_copy.iloc[j][\"instance_number\"])+\".dcm\")\n",
    "  H,W = image.shape\n",
    "  a_all_df_copy.loc[j, 'H'] = H\n",
    "  a_all_df_copy.loc[j, 'W'] = W\n",
    "  a_all_df_copy.loc[j,'o0']=dicom.ImageOrientationPatient[0]\n",
    "  a_all_df_copy.loc[j,'o1']=dicom.ImageOrientationPatient[1]\n",
    "  a_all_df_copy.loc[j,'o2']=dicom.ImageOrientationPatient[2]\n",
    "  a_all_df_copy.loc[j,'o3']=dicom.ImageOrientationPatient[3]\n",
    "  a_all_df_copy.loc[j,'o4']=dicom.ImageOrientationPatient[4]\n",
    "  a_all_df_copy.loc[j,'o5']=dicom.ImageOrientationPatient[5]\n",
    "  a_all_df_copy.loc[j, 'H_cut'] = 0\n",
    "  a_all_df_copy.loc[j, 'W_cut'] = 0\n",
    "  if H > W:\n",
    "      d = W\n",
    "      h = (H - d)//2\n",
    "      image = image[h:h+d]\n",
    "      a_all_df_copy.loc[j, 'H_cut'] = h\n",
    "      # centers[:,1] -= h\n",
    "      H = W\n",
    "  elif H < W:\n",
    "      d = H\n",
    "      w = (W - d)//2\n",
    "      image = image[:,w:w+d]\n",
    "      a_all_df_copy.loc[j, 'W_cut'] = w\n",
    "      # centers[:,0] -= w\n",
    "      W = H\n",
    "  image = cv2.resize(image,(PATCH_SIZE,PATCH_SIZE))\n",
    "  image = torch.as_tensor(image/np.max(image)).unsqueeze(0).float()\n",
    "  image=image.to(device)\n",
    "  OUT = model2(image.unsqueeze(0)).cpu().detach()\n",
    "  for i in range(2):\n",
    "    mask = (OUT > 0.5)[0][i]  # 512x512のテンソル\n",
    "\n",
    "    # Trueのピクセル座標を取得（y座標とx座標のペアとして取得）\n",
    "    true_pixels = torch.nonzero(mask)\n",
    "\n",
    "    # 平均座標を計算\n",
    "    mean_yx = true_pixels.float().mean(dim=0)\n",
    "\n",
    "    # 平均座標を表示\n",
    "    mean_y, mean_x = mean_yx[0], mean_yx[1]\n",
    "\n",
    "\n",
    "    a_all_df_copy.loc[j, f'mean_y_{i}']=mean_y.item()\n",
    "    a_all_df_copy.loc[j, f'mean_x_{i}']=mean_x.item()\n",
    "    print(f\"Mean coordinates: (y, x) = ({0-mean_y.item()}, {mean_x.item()})\")\n"
   ]
  },
  {
   "cell_type": "code",
   "execution_count": null,
   "metadata": {
    "id": "dCj-7pylPDMm"
   },
   "outputs": [],
   "source": [
    "a_all_df=a_all_df_copy\n",
    "\n",
    "import torch\n",
    "\n",
    "# 各マスクの座標を元の画像サイズに戻すコード\n",
    "for j in range(len(a_all_df)):\n",
    "    # 元の画像サイズ\n",
    "    H = a_all_df.loc[j, 'H']\n",
    "    W = a_all_df.loc[j, 'W']\n",
    "\n",
    "    # 512にリサイズされた画像のサイズ\n",
    "    resized_size = 512\n",
    "\n",
    "    # 高さと幅のスケール（リサイズ前の座標に戻すためのスケール）\n",
    "    if H<W:\n",
    "      scale_y = H / resized_size\n",
    "      scale_x = H / resized_size\n",
    "    elif H>W:\n",
    "      scale_y = W / resized_size\n",
    "      scale_x = W / resized_size\n",
    "    else:\n",
    "      scale_y = W / resized_size\n",
    "      scale_x = H / resized_size\n",
    "    for i in range(2):\n",
    "        # リサイズ後の座標を取得\n",
    "        mean_y_resized =a_all_df.loc[j, f'mean_y_{i}']\n",
    "        mean_x_resized =a_all_df.loc[j, f'mean_x_{i}']\n",
    "\n",
    "        # リサイズ前の座標に戻す（スケールを掛ける）\n",
    "        mean_bfr_y = mean_y_resized * scale_y\n",
    "        mean_bfr_x = mean_x_resized * scale_x\n",
    "\n",
    "        # 戻した座標を新しいカラムに格納\n",
    "        a_all_df.loc[j, f'mean_bfr_y_{i}'] = mean_bfr_y\n",
    "        a_all_df.loc[j, f'mean_bfr_x_{i}'] = mean_bfr_x\n"
   ]
  },
  {
   "cell_type": "code",
   "execution_count": null,
   "metadata": {
    "id": "HmCBfJ_sS1BK"
   },
   "outputs": [],
   "source": [
    "import torch\n",
    "\n",
    "# 各マスクの切り取る前の座標を計算して新しいカラムに格納\n",
    "for j in range(len(a_all_df)):\n",
    "    # H_cut, W_cut はどれくらい切り取られたかを表す（NaNの場合は切り取りなし）\n",
    "    H_cut = a_all_df.loc[j, 'H_cut'] if not pd.isna(a_all_df.loc[j, 'H_cut']) else 0\n",
    "    W_cut = a_all_df.loc[j, 'W_cut'] if not pd.isna(a_all_df.loc[j, 'W_cut']) else 0\n",
    "\n",
    "    for i in range(2):\n",
    "        # リサイズ前の平均座標を取得\n",
    "        mean_bfr_y = a_all_df.loc[j, f'mean_bfr_y_{i}']\n",
    "        mean_bfr_x = a_all_df.loc[j, f'mean_bfr_x_{i}']\n",
    "\n",
    "        # 切り取る前の座標を計算（H_cutとW_cutを戻す）\n",
    "        mean_bfr_cut_y = mean_bfr_y + H_cut\n",
    "        mean_bfr_cut_x = mean_bfr_x + W_cut\n",
    "\n",
    "        # 切り取る前の座標を新しいカラムに格納\n",
    "        a_all_df.loc[j, f'mean_bfr_cut_y_{i}'] = mean_bfr_cut_y\n",
    "        a_all_df.loc[j, f'mean_bfr_cut_x_{i}'] = mean_bfr_cut_x"
   ]
  },
  {
   "cell_type": "code",
   "execution_count": null,
   "metadata": {
    "id": "iujeIt7gS8G3"
   },
   "outputs": [],
   "source": [
    "import numpy as np\n",
    "\n",
    "# 3次元座標を計算してカラムに格納するコード\n",
    "for j in range(len(a_all_df)):\n",
    "    # DICOMのメタデータ\n",
    "    x_pos = a_all_df.loc[j, 'x_pos']\n",
    "    y_pos = a_all_df.loc[j, 'y_pos']\n",
    "    z_pos = a_all_df.loc[j, 'z_pos']\n",
    "\n",
    "    o0, o1, o2 = a_all_df.loc[j, ['o0', 'o1', 'o2']]  # 行方向ベクトル (ImageOrientationPatientの0〜2番目)\n",
    "    o3, o4, o5 = a_all_df.loc[j, ['o3', 'o4', 'o5']]  # 列方向ベクトル (ImageOrientationPatientの3〜5番目)\n",
    "\n",
    "    pixel_sp_y = a_all_df.loc[j, 'pixel_sp_y']  # 行方向のPixelSpacing\n",
    "    pixel_sp_z = a_all_df.loc[j, 'pixel_sp_z']  # 列方向のPixelSpacing\n",
    "\n",
    "    # 行方向ベクトル\n",
    "    row_direction = np.array([o0, o1, o2])\n",
    "    # 列方向ベクトル\n",
    "    col_direction = np.array([o3, o4, o5])\n",
    "    for i in range(2):\n",
    "        # ピクセル座標を取得\n",
    "        mean_y = a_all_df.loc[j, f'mean_bfr_cut_y_{i}']  # 行方向（R）\n",
    "        mean_x = a_all_df.loc[j, f'mean_bfr_cut_x_{i}']  # 列方向（C）\n",
    "\n",
    "        # 3次元座標を計算\n",
    "        patient_pos = np.array([x_pos, y_pos, z_pos]) + \\\n",
    "                      (pixel_sp_y * mean_x) * row_direction + \\\n",
    "                      (pixel_sp_z * mean_y) * col_direction\n",
    "\n",
    "        # 計算した3次元座標をカラムに格納\n",
    "        a_all_df.loc[j, f'xx_{i}'] = patient_pos[0]\n",
    "        a_all_df.loc[j, f'yy_{i}'] = patient_pos[1]\n",
    "        a_all_df.loc[j, f'zz_{i}'] = patient_pos[2]\n"
   ]
  },
  {
   "cell_type": "code",
   "execution_count": null,
   "metadata": {
    "id": "W9kaxRKATTac"
   },
   "outputs": [],
   "source": [
    "a_all_df = a_all_df.rename(columns={\n",
    "    'xx_0': 'xx_0_axial',\n",
    "    'yy_0': 'yy_0_axial',\n",
    "    'zz_0': 'zz_0_axial',\n",
    "    'xx_1': 'xx_1_axial',\n",
    "    'yy_1': 'yy_1_axial',\n",
    "    'zz_1': 'zz_1_axial'\n",
    "})"
   ]
  },
  {
   "cell_type": "code",
   "execution_count": null,
   "metadata": {
    "id": "3lEWytGWTx0f"
   },
   "outputs": [],
   "source": [
    "with open('/content/drive/MyDrive/RSNA_csv/middle_s_all_df_rev.pkl', 'rb') as f:\n",
    "  middle_s_all_df=pickle.load(f)"
   ]
  },
  {
   "cell_type": "code",
   "execution_count": null,
   "metadata": {
    "colab": {
     "base_uri": "https://localhost:8080/"
    },
    "executionInfo": {
     "elapsed": 326,
     "status": "ok",
     "timestamp": 1734581021774,
     "user": {
      "displayName": "藤吉亨",
      "userId": "10408607038785028470"
     },
     "user_tz": -540
    },
    "id": "G9O4l8AXT_w2",
    "outputId": "3834d682-cff4-440c-8a6a-68a505ee7e80"
   },
   "outputs": [],
   "source": [
    "import pandas as pd\n",
    "\n",
    "# middle_s_all_df の z_pos カラムを study_id をキーにして a_all_df に結合\n",
    "a_all_df_2 = pd.merge(a_all_df, middle_s_all_df[['study_id', 'zz_0', 'zz_1', 'zz_2', 'zz_3', 'zz_4','z_pos_0','z_pos_1','z_pos_2','z_pos_3','z_pos_4']], on='study_id', how='left')\n",
    "\n",
    "# 結果を表示\n",
    "print(a_all_df_2.head())"
   ]
  },
  {
   "cell_type": "code",
   "execution_count": null,
   "metadata": {
    "colab": {
     "base_uri": "https://localhost:8080/"
    },
    "executionInfo": {
     "elapsed": 5612,
     "status": "ok",
     "timestamp": 1734581052602,
     "user": {
      "displayName": "藤吉亨",
      "userId": "10408607038785028470"
     },
     "user_tz": -540
    },
    "id": "s6gf36NpULFG",
    "outputId": "9a9c7ff0-f4d3-4a30-c75b-763b501a2d95"
   },
   "outputs": [],
   "source": [
    "import numpy as np\n",
    "\n",
    "# levelを設定する関数\n",
    "def assign_level(row):\n",
    "    # 各z_posの範囲を計算（絶対値で範囲を確保）\n",
    "\n",
    "    z0_mid = (row['zz_1'] - row['zz_0']) / 2\n",
    "    z1_mid = (row['zz_2'] - row['zz_1']) / 2\n",
    "    z2_mid = (row['zz_3'] - row['zz_2']) / 2\n",
    "    z3_mid = (row['zz_4'] - row['zz_3']) / 2\n",
    "    z4_mid = z3_mid  # z_pos_4の範囲はz_pos_3と同じ幅を使用\n",
    "\n",
    "    bool1=(row['zz_4'] - row['zz_3']>=0)\n",
    "    bool2=(row['zz_3'] - row['zz_2']>=0)\n",
    "    bool3=(row['zz_2'] - row['zz_1']>=0)\n",
    "    bool4=(row['zz_1'] - row['zz_0']>=0)\n",
    "    if ((bool1+bool2+bool3+bool4)>=2):\n",
    "      if (row['zz_1'] - z1_mid >= row['zz_0_axial']) and (row['zz_0'] - z1_mid <= row['zz_0_axial']):\n",
    "          return 'L1/L2'\n",
    "      elif (row['zz_1'] - z1_mid <= row['zz_0_axial']) and (row['zz_0_axial']<= row['zz_1'] + z1_mid):\n",
    "          return 'L2/L3'\n",
    "      elif (row['zz_1'] + z1_mid <= row['zz_0_axial']) and (row['zz_0_axial'] <= row['zz_2'] + z2_mid):\n",
    "          return 'L3/L4'\n",
    "      elif (row['zz_2'] + z2_mid <= row['zz_0_axial']) and (row['zz_0_axial'] <= row['zz_3'] + z3_mid):\n",
    "          return 'L4/L5'\n",
    "      elif (row['zz_0_axial'] >=  row['zz_3'] + z3_mid) and (row['zz_0_axial'] <=  row['zz_4'] + z3_mid):\n",
    "          return 'L5/S1'\n",
    "      else:\n",
    "          return 'OUT'  # 該当しない場合にはNaNを返す\n",
    "    else:\n",
    "      if (row['zz_1'] - z1_mid <= row['zz_0_axial']) and (row['zz_0'] - z1_mid >= row['zz_0_axial']):\n",
    "          return 'L1/L2'\n",
    "      elif (row['zz_1'] - z1_mid >= row['zz_0_axial']) and (row['zz_0_axial'] >= row['zz_1'] + z1_mid):\n",
    "          return 'L2/L3'\n",
    "      elif (row['zz_1'] + z1_mid >= row['zz_0_axial']) and (row['zz_0_axial'] >= row['zz_2'] + z2_mid):\n",
    "          return 'L3/L4'\n",
    "      elif (row['zz_2'] + z2_mid >= row['zz_0_axial']) and (row['zz_0_axial'] >= row['zz_3'] + z3_mid):\n",
    "          return 'L4/L5'\n",
    "      elif (row['zz_0_axial'] <= row['zz_3'] + z3_mid) and (row['zz_0_axial'] >= row['zz_4'] + z3_mid):\n",
    "          return 'L5/S1'\n",
    "      else:\n",
    "          return 'OUT'  # 該当しない場合にはNaNを返す\n",
    "\n",
    "a_all_df_2['level'] = a_all_df_2.apply(assign_level, axis=1)\n",
    "\n",
    "# 結果を確認\n",
    "print(a_all_df_2[['zz_0_axial', 'level']].head())\n"
   ]
  },
  {
   "cell_type": "code",
   "execution_count": null,
   "metadata": {
    "colab": {
     "base_uri": "https://localhost:8080/"
    },
    "executionInfo": {
     "elapsed": 12578,
     "status": "ok",
     "timestamp": 1734581074352,
     "user": {
      "displayName": "藤吉亨",
      "userId": "10408607038785028470"
     },
     "user_tz": -540
    },
    "id": "AuKKu5rEUxha",
    "outputId": "b0b3c2b6-936b-4180-dedf-11bb7191972a"
   },
   "outputs": [],
   "source": [
    "import pandas as pd\n",
    "import numpy as np\n",
    "\n",
    "# 関数：グループごとに均等にデータを選び、足りない場合は補完\n",
    "def select_five_from_group(group):\n",
    "    group_sorted = group.sort_values(by='zz_0_axial').reset_index(drop=True)\n",
    "    num_rows = len(group_sorted)\n",
    "\n",
    "    if num_rows >= 5:\n",
    "        # 均等に5つ選ぶ\n",
    "        step = num_rows / 5\n",
    "        selected_indices = [int(i * step) for i in range(5)]\n",
    "        return group_sorted.iloc[selected_indices]\n",
    "\n",
    "    elif num_rows == 4:\n",
    "        # 4つの場合：最後のデータを追加\n",
    "        selected_indices = list(range(4)) + [3]\n",
    "        return group_sorted.iloc[selected_indices]\n",
    "    elif num_rows == 3:\n",
    "        # 3つの場合：最後の2つと1つを追加\n",
    "        selected_indices = [0, 1, 2, 2, 1]\n",
    "        return group_sorted.iloc[selected_indices]\n",
    "\n",
    "    elif num_rows == 2:\n",
    "        # 2つの場合：最後の1つを追加\n",
    "        selected_indices = [0, 1, 1, 1, 0]\n",
    "        return group_sorted.iloc[selected_indices]\n",
    "\n",
    "    elif num_rows == 1:\n",
    "        # 1つの場合：そのデータを5回繰り返す\n",
    "        return pd.concat([group_sorted] * 5, ignore_index=True)\n",
    "\n",
    "\n",
    "def process_dataframe(df):\n",
    "    grouped_df = df.groupby(['study_id', 'series_id', 'level'], group_keys=False)\n",
    "    result_df = grouped_df.apply(select_five_from_group)\n",
    "    return result_df.reset_index(drop=True)\n",
    "\n",
    "# a_all_df_2 を読み込んで処理\n",
    "# a_all_df_2 = pd.read_csv('your_data.csv')  # データを読み込む部分\n",
    "sampled_df = process_dataframe(a_all_df_2)\n",
    "\n",
    "# 結果を確認\n",
    "print(sampled_df)\n",
    "\n"
   ]
  },
  {
   "cell_type": "code",
   "execution_count": null,
   "metadata": {
    "id": "c9UjtIf6Z3nh"
   },
   "outputs": [],
   "source": [
    "merged_df = pd.merge(sampled_df,train, on='study_id', how='left')"
   ]
  },
  {
   "cell_type": "code",
   "execution_count": null,
   "metadata": {
    "colab": {
     "base_uri": "https://localhost:8080/"
    },
    "executionInfo": {
     "elapsed": 570,
     "status": "ok",
     "timestamp": 1734581507182,
     "user": {
      "displayName": "藤吉亨",
      "userId": "10408607038785028470"
     },
     "user_tz": -540
    },
    "id": "cSiXheJZWUQG",
    "outputId": "5e551c35-5256-4da9-bbb0-cf9e17d77895"
   },
   "outputs": [],
   "source": [
    "import pandas as pd\n",
    "\n",
    "# まず、merged_dfのコピーを作成して2倍にする\n",
    "merged_df_left = merged_df.copy()\n",
    "merged_df_left['direction'] = 'left'\n",
    "\n",
    "merged_df_right = merged_df.copy()\n",
    "merged_df_right['direction'] = 'right'\n",
    "\n",
    "# 2つのデータフレームを縦方向に結合して行を倍にする\n",
    "merged_df_doubled = pd.concat([merged_df_left, merged_df_right], ignore_index=True)\n",
    "\n",
    "# 結果を表示\n",
    "print(merged_df_doubled)"
   ]
  },
  {
   "cell_type": "code",
   "execution_count": null,
   "metadata": {
    "colab": {
     "base_uri": "https://localhost:8080/"
    },
    "executionInfo": {
     "elapsed": 409,
     "status": "ok",
     "timestamp": 1734581514846,
     "user": {
      "displayName": "藤吉亨",
      "userId": "10408607038785028470"
     },
     "user_tz": -540
    },
    "id": "E2cymjt-WaT8",
    "outputId": "edcac3a4-d444-487d-8d87-500d5065ed9b"
   },
   "outputs": [],
   "source": [
    "merged_df_doubled['direction'] = merged_df_doubled['direction'].replace({'left': 0, 'right': 1})"
   ]
  },
  {
   "cell_type": "code",
   "execution_count": null,
   "metadata": {
    "id": "ADLUFleuYwxg"
   },
   "outputs": [],
   "source": [
    "# ラベルを設定するための関数\n",
    "def assign_label(row):\n",
    "    if row['direction'] == 0:\n",
    "        if row['level'] == 'L1/L2':\n",
    "            return row['left_subarticular_stenosis_l1_l2']\n",
    "        elif row['level'] == 'L2/L3':\n",
    "            return row['left_subarticular_stenosis_l2_l3']\n",
    "        elif row['level'] == 'L3/L4':\n",
    "            return row['left_subarticular_stenosis_l3_l4']\n",
    "        elif row['level'] == 'L4/L5':\n",
    "            return row['left_subarticular_stenosis_l4_l5']\n",
    "        elif row['level'] == 'L5/S1':\n",
    "            return row['left_subarticular_stenosis_l5_s1']\n",
    "    elif row['direction'] == 1:\n",
    "        if row['level'] == 'L1/L2':\n",
    "            return row['right_subarticular_stenosis_l1_l2']\n",
    "        elif row['level'] == 'L2/L3':\n",
    "            return row['right_subarticular_stenosis_l2_l3']\n",
    "        elif row['level'] == 'L3/L4':\n",
    "            return row['right_subarticular_stenosis_l3_l4']\n",
    "        elif row['level'] == 'L4/L5':\n",
    "            return row['right_subarticular_stenosis_l4_l5']\n",
    "        elif row['level'] == 'L5/S1':\n",
    "            return row['right_subarticular_stenosis_l5_s1']\n",
    "    return None\n",
    "\n",
    "# apply関数を使ってlabelカラムを作成\n",
    "merged_df_doubled['label'] = merged_df_doubled.apply(assign_label, axis=1)"
   ]
  },
  {
   "cell_type": "code",
   "execution_count": null,
   "metadata": {
    "colab": {
     "base_uri": "https://localhost:8080/"
    },
    "executionInfo": {
     "elapsed": 23452,
     "status": "ok",
     "timestamp": 1734581558598,
     "user": {
      "displayName": "藤吉亨",
      "userId": "10408607038785028470"
     },
     "user_tz": -540
    },
    "id": "njdPwFLUWeZB",
    "outputId": "a55c9e88-0ffe-47fe-fcbd-0367c4d0db75"
   },
   "outputs": [],
   "source": [
    "def group_rows(df, group_size):\n",
    "    grouped = []\n",
    "    num_groups = len(df) // group_size + int(len(df) % group_size != 0)\n",
    "\n",
    "    for i in range(num_groups):\n",
    "        start_idx = i * group_size\n",
    "        end_idx = min((i + 1) * group_size, len(df))\n",
    "        subset = df.iloc[start_idx:end_idx].reset_index(drop=True)\n",
    "\n",
    "        # グループ内の先頭行の値を取得\n",
    "        first_row = subset.iloc[0]\n",
    "\n",
    "        # 新しいカラムに instance_number を格納\n",
    "        row_data = first_row.to_dict()  # 他の列の情報も含めて最初の行の情報を取得\n",
    "        row_data.update({\n",
    "            f'instance_number_{j}': subset.iloc[j]['instance_number'] for j in range(len(subset))\n",
    "        })\n",
    "\n",
    "        # フィルの中身をリストに格納\n",
    "        grouped.append(row_data)\n",
    "\n",
    "    return pd.DataFrame(grouped)\n",
    "\n",
    "# グループサイズを設定（5つの行を1行にまとめる）\n",
    "group_size = 5\n",
    "grouped_df_axial = group_rows(merged_df_doubled, group_size)\n",
    "print(grouped_df_axial.head())"
   ]
  },
  {
   "cell_type": "code",
   "execution_count": null,
   "metadata": {
    "id": "lXc_U0TCW5DR"
   },
   "outputs": [],
   "source": [
    "grouped_df_axial=grouped_df_axial[grouped_df_axial['level']!='OUT']"
   ]
  },
  {
   "cell_type": "code",
   "execution_count": null,
   "metadata": {
    "id": "zPxBLSn7XHoE"
   },
   "outputs": [],
   "source": [
    "# 'study_id' と 'direction' 列で grouped_df_axial をグループ分けし、その後 'level' の重複を削除する関数\n",
    "def remove_duplicates(grouped_df_axial):\n",
    "    # 'study_id' と 'direction' でグループ化\n",
    "    grouped = grouped_df_axial.groupby(['study_id', 'direction'])\n",
    "\n",
    "    # 各グループ内で 'level' 列の重複を削除\n",
    "    unique_groups = []\n",
    "    for _, group in grouped:\n",
    "        # 'level' 列に基づいて重複を削除\n",
    "        unique_group = group.drop_duplicates(subset='level')\n",
    "        unique_groups.append(unique_group)\n",
    "\n",
    "    # 結果を1つの DataFrame に結合\n",
    "    return pd.concat(unique_groups, ignore_index=True)\n",
    "\n",
    "# 関数を grouped_df_axial に適用\n",
    "grouped_df_axial = remove_duplicates(grouped_df_axial)\n"
   ]
  },
  {
   "cell_type": "code",
   "execution_count": null,
   "metadata": {
    "id": "XtIsexpJXLtc"
   },
   "outputs": [],
   "source": [
    "import pandas as pd\n",
    "\n",
    "# 全てのレベルを定義\n",
    "all_levels = ['L1/L2', 'L2/L3', 'L3/L4', 'L4/L5', 'L5/S1']\n",
    "\n",
    "# 欠けているレベルを補完する関数を定義\n",
    "def fill_missing_levels(grouped_df_axial, all_df):\n",
    "    # 補完された行を格納する新しいデータフレームを作成\n",
    "    filled_rows = []\n",
    "\n",
    "    # 'study_id' と 'direction' の各組み合わせごとに繰り返し処理\n",
    "    for (study_id, direction), group in grouped_df_axial.groupby(['study_id', 'direction']):\n",
    "        # 現在のグループに存在する 'level' をリスト化\n",
    "        existing_levels = group['level'].tolist()\n",
    "\n",
    "        # 存在しない 'level' を探す\n",
    "        missing_levels = [lvl for lvl in all_levels if lvl not in existing_levels]\n",
    "        row = group.iloc[0].copy()\n",
    "\n",
    "        # 各行に対応する series_id を取得\n",
    "        for i in range(len(group)):\n",
    "            row['series_id'] = group.iloc[i]['series_id']\n",
    "            series_id = group.iloc[i]['series_id']\n",
    "            all_group = all_df[(all_df['study_id'] == study_id) & (all_df['series_id'] == series_id)]\n",
    "            instance_numbers = all_group['instance_number'].tolist()\n",
    "            total_len = len(instance_numbers)\n",
    "            if total_len > 1:\n",
    "                series_id = group.iloc[i]['series_id']\n",
    "                row['series_id'] = group.iloc[i]['series_id']\n",
    "                break\n",
    "\n",
    "        # 'all_df' から study_id と series_id に一致する行を取得\n",
    "        all_group = all_df[(all_df['study_id'] == study_id) & (all_df['series_id'] == series_id)]\n",
    "        instance_numbers = all_group['instance_number'].tolist()\n",
    "        total_len = len(instance_numbers)\n",
    "\n",
    "        # 存在しない各 'level' に対して補完処理を行う\n",
    "        for missing_level in missing_levels:\n",
    "            # 'all_df' から一致する行を取得\n",
    "            row = group.iloc[0].copy()\n",
    "\n",
    "            # 欠けている 'level' を設定\n",
    "            row['level'] = missing_level\n",
    "\n",
    "            # 欠けている 'level' に基づいて 'instance_number' を計算\n",
    "            if missing_level == 'L1/L2':\n",
    "                row['instance_number_0'] = instance_numbers[max(total_len // 5, 1)]\n",
    "                row['instance_number_1'] = instance_numbers[max(total_len // 5, 1)]\n",
    "                row['instance_number_2'] = instance_numbers[max(total_len // 5, 1)]\n",
    "                row['instance_number_3'] = instance_numbers[max(total_len // 5, 1)]\n",
    "                row['instance_number_4'] = instance_numbers[max(total_len // 5, 1)]\n",
    "            elif missing_level == 'L2/L3':\n",
    "                row['instance_number_0'] = instance_numbers[max((total_len * 2) // 5, 1)]\n",
    "                row['instance_number_1'] = instance_numbers[max((total_len * 2) // 5, 1)]\n",
    "                row['instance_number_2'] = instance_numbers[max((total_len * 2) // 5, 1)]\n",
    "                row['instance_number_3'] = instance_numbers[max((total_len * 2) // 5, 1)]\n",
    "                row['instance_number_4'] = instance_numbers[max((total_len * 2) // 5, 1)]\n",
    "            elif missing_level == 'L3/L4':\n",
    "                row['instance_number_0'] = instance_numbers[max((total_len * 3) // 5, 1)]\n",
    "                row['instance_number_1'] = instance_numbers[max((total_len * 3) // 5, 1)]\n",
    "                row['instance_number_2'] = instance_numbers[max((total_len * 3) // 5, 1)]\n",
    "                row['instance_number_3'] = instance_numbers[max((total_len * 3) // 5, 1)]\n",
    "                row['instance_number_4'] = instance_numbers[max((total_len * 3) // 5, 1)]\n",
    "            elif missing_level == 'L4/L5':\n",
    "                row['instance_number_0'] = instance_numbers[max((total_len * 4) // 5, 1)]\n",
    "                row['instance_number_1'] = instance_numbers[max((total_len * 4) // 5, 1)]\n",
    "                row['instance_number_2'] = instance_numbers[max((total_len * 4) // 5, 1)]\n",
    "                row['instance_number_3'] = instance_numbers[max((total_len * 4) // 5, 1)]\n",
    "                row['instance_number_4'] = instance_numbers[max((total_len * 4) // 5, 1)]\n",
    "            elif missing_level == 'L5/S1':\n",
    "                row['instance_number_0'] = instance_numbers[total_len - 1]\n",
    "                row['instance_number_1'] = instance_numbers[total_len - 1]\n",
    "                row['instance_number_2'] = instance_numbers[total_len - 1]\n",
    "                row['instance_number_3'] = instance_numbers[total_len - 1]\n",
    "                row['instance_number_4'] = instance_numbers[total_len - 1]\n",
    "\n",
    "            # 補完された行を追加\n",
    "            filled_rows.append(row)\n",
    "\n",
    "    # 新たに補完された行を元のデータフレームと結合\n",
    "    filled_df = pd.concat([grouped_df_axial, pd.DataFrame(filled_rows)], ignore_index=True)\n",
    "    return filled_df\n",
    "\n",
    "# 関数を grouped_df_axial に適用\n",
    "grouped_df_axial = fill_missing_levels(grouped_df_axial, all_df)\n"
   ]
  },
  {
   "cell_type": "code",
   "execution_count": null,
   "metadata": {
    "id": "XY79jS7aIlsb"
   },
   "outputs": [],
   "source": [
    "grouped_df_axial=grouped_df_axial[grouped_df_axial['label'].notna()]"
   ]
  },
  {
   "cell_type": "code",
   "execution_count": null,
   "metadata": {
    "id": "I_OlliXkI0RN"
   },
   "outputs": [],
   "source": [
    "grouped_df_axial.reset_index(drop=True,inplace=True)"
   ]
  },
  {
   "cell_type": "code",
   "execution_count": null,
   "metadata": {
    "colab": {
     "base_uri": "https://localhost:8080/"
    },
    "executionInfo": {
     "elapsed": 259,
     "status": "ok",
     "timestamp": 1734582200470,
     "user": {
      "displayName": "藤吉亨",
      "userId": "10408607038785028470"
     },
     "user_tz": -540
    },
    "id": "mpJsxmPdYUOE",
    "outputId": "eef311df-c735-444c-e2ca-af88f39c75dd"
   },
   "outputs": [],
   "source": [
    "# DataFrameを保存するパス\n",
    "save_path = '/content/drive/MyDrive/RSNA_csv/grouped_df_axial_rev.pkl'\n",
    "\n",
    "# DataFrameをpkl形式で保存\n",
    "grouped_df_axial.to_pickle(save_path)\n",
    "\n",
    "print(f\"DataFrame has been saved to {save_path}\")"
   ]
  },
  {
   "cell_type": "markdown",
   "metadata": {
    "id": "K0O_1RcCa6Xr"
   },
   "source": [
    "# 画像認識モデル学習部分"
   ]
  },
  {
   "cell_type": "code",
   "execution_count": null,
   "metadata": {
    "id": "2iWfCn9Mbhdi"
   },
   "outputs": [],
   "source": [
    "with open(\"/content/drive/MyDrive/RSNA_csv/grouped_df_axial_rev.pkl\", 'rb') as f:\n",
    "  grouped_df_axial=pickle.load(f)"
   ]
  },
  {
   "cell_type": "code",
   "execution_count": null,
   "metadata": {
    "id": "ciwxsK6wa8aG"
   },
   "outputs": [],
   "source": [
    "unique_studies = grouped_df_axial['study_id'].unique()\n",
    "study_mapping = {study: (i % 5) + 1 for i, study in enumerate(unique_studies)}\n",
    "\n",
    "# study_idごとにfoldをわける\n",
    "grouped_df_axial['series_description2'] = grouped_df_axial['study_id'].map(study_mapping)\n"
   ]
  },
  {
   "cell_type": "code",
   "execution_count": null,
   "metadata": {
    "id": "269szWLZbsuK"
   },
   "outputs": [],
   "source": [
    "grouped_df_axial_left=grouped_df_axial[grouped_df_axial['direction']==0]\n",
    "grouped_df_axial_right=grouped_df_axial[grouped_df_axial['direction']==1]"
   ]
  },
  {
   "cell_type": "code",
   "execution_count": null,
   "metadata": {
    "id": "1o0GqDW6cEhw"
   },
   "outputs": [],
   "source": [
    "tdf2 = grouped_df_axial_right[grouped_df_axial_right['series_description2'] != fold]\n",
    "vdf2 = grouped_df_axial_right[grouped_df_axial_right['series_description2'] == fold]"
   ]
  },
  {
   "cell_type": "code",
   "execution_count": null,
   "metadata": {
    "id": "I3fqXCexC7sL"
   },
   "outputs": [],
   "source": [
    "tdf2 = grouped_df_axial_left[grouped_df_axial_left['series_description2'] != fold]\n",
    "vdf2 = grouped_df_axial_left[grouped_df_axial_left['series_description2'] == fold]"
   ]
  },
  {
   "cell_type": "code",
   "execution_count": null,
   "metadata": {
    "id": "LNzSnCei6Ctf"
   },
   "outputs": [],
   "source": [
    "vdf2.to_pickle('/content/drive/MyDrive/RSNA_csv/grouped_df_axial_right_vdf2.pkl')"
   ]
  },
  {
   "cell_type": "code",
   "execution_count": null,
   "metadata": {
    "id": "ibbshA6lC4Sr"
   },
   "outputs": [],
   "source": [
    "vdf2.to_pickle('/content/drive/MyDrive/RSNA_csv/grouped_df_axial_vdf2.pkl')"
   ]
  },
  {
   "cell_type": "code",
   "execution_count": null,
   "metadata": {
    "colab": {
     "base_uri": "https://localhost:8080/"
    },
    "executionInfo": {
     "elapsed": 1189,
     "status": "ok",
     "timestamp": 1737005049642,
     "user": {
      "displayName": "藤吉亨",
      "userId": "10408607038785028470"
     },
     "user_tz": -540
    },
    "id": "YDLzOpUkcWYz",
    "outputId": "d5390ced-5392-4efb-d925-80d5d0b15f57"
   },
   "outputs": [],
   "source": [
    "import albumentations as A #データ拡張の処理をする\n",
    "\n",
    "AUG_PROB = 0.75 #75%の確率でデータ拡張する\n",
    "transforms_train = A.Compose([\n",
    "    A.RandomBrightnessContrast(brightness_limit=(-0.2, 0.2), contrast_limit=(-0.2, 0.2), p=AUG_PROB),\n",
    "    A.OneOf([\n",
    "        A.MotionBlur(blur_limit=5),#動きによるぼかしをいれる\n",
    "        # A.MedianBlur(blur_limit=5),\n",
    "        A.GaussianBlur(blur_limit=5),#ガウスフィルタによるぼかしを入れる\n",
    "        A.GaussNoise(var_limit=(5.0, 30.0)),#ランダムなガウスノイズを入れる\n",
    "    ], p=AUG_PROB),\n",
    "\n",
    "    A.OneOf([\n",
    "        A.OpticalDistortion(distort_limit=1.0),#光学的な歪みを実現\n",
    "        A.GridDistortion(num_steps=5, distort_limit=1.),#グリッドごとにゆがませる\n",
    "        A.ElasticTransform(alpha=3),#弾性変形を適用\n",
    "    ], p=AUG_PROB),\n",
    "\n",
    "    A.ShiftScaleRotate(shift_limit=0.1, scale_limit=0.1, rotate_limit=15, border_mode=0, p=AUG_PROB),#平行移動、拡大縮小、回転\n",
    "  #  A.CoarseDropout(max_holes=15, max_height=30, max_width=30, min_holes=1, min_height=8, min_width=8, p=AUG_PROB),\n",
    "])"
   ]
  },
  {
   "cell_type": "code",
   "execution_count": null,
   "metadata": {
    "executionInfo": {
     "elapsed": 3,
     "status": "ok",
     "timestamp": 1737075845304,
     "user": {
      "displayName": "藤吉亨",
      "userId": "10408607038785028470"
     },
     "user_tz": -540
    },
    "id": "EGLTSZwWct23"
   },
   "outputs": [],
   "source": [
    "patch_size=224#切り取るサイズ"
   ]
  },
  {
   "cell_type": "code",
   "execution_count": null,
   "metadata": {
    "executionInfo": {
     "elapsed": 3,
     "status": "ok",
     "timestamp": 1737075845304,
     "user": {
      "displayName": "藤吉亨",
      "userId": "10408607038785028470"
     },
     "user_tz": -540
    },
    "id": "qDPGnAICc_Sr"
   },
   "outputs": [],
   "source": [
    "import torch.nn.functional as F\n",
    "class ViT_T1_Dataset(Dataset):\n",
    "    def __init__(self, df, UNet, VALID=False, P=patch_size, alpha=0,transform=None):\n",
    "        self.data = df\n",
    "        self.UNet = UNet\n",
    "        self.VALID = VALID\n",
    "        self.P = P\n",
    "        self.alpha = alpha\n",
    "        self.transform = transform\n",
    "\n",
    "    def __len__(self):\n",
    "        return len(self.data)\n",
    "\n",
    "    def __getitem__(self, index):\n",
    "        x = np.zeros((5, self.P, self.P), dtype=np.float32)#まずは全部0が入っているものを作るサイズはpatch_size*patch_size\n",
    "        non_zero_slice=[]\n",
    "        for i in range(5):\n",
    "\n",
    "          sample = '/content/train_images/'\n",
    "          sample = sample+str(self.data.iloc[index]['study_id'])+'/'+str(self.data.iloc[index]['series_id'])+'/'+str(self.data.iloc[index][f'instance_number_{i}'])+'.dcm'\n",
    "\n",
    "          image = pydicom.dcmread(sample).pixel_array\n",
    "          H,W = image.shape\n",
    "          # 正方形に切り取る\n",
    "          if H > W:\n",
    "              d = W\n",
    "              h = (H - d)//2\n",
    "              image = image[h:h+d]\n",
    "              # centers[:,1] -= h\n",
    "              H = W\n",
    "          elif H < W:\n",
    "              d = H\n",
    "              w = (W - d)//2\n",
    "              image = image[:,w:w+d]\n",
    "              # centers[:,0] -= w\n",
    "              W = H\n",
    "          image = cv2.resize(image,(PATCH_SIZE,PATCH_SIZE))\n",
    "          image = torch.as_tensor(image/(np.max(image))).unsqueeze(0).unsqueeze(0).float().to(device)\n",
    "          # x[i,...] = torch.as_tensor(image/(np.max(image))).cpu().numpy()\n",
    "\n",
    "          # OUT = 0\n",
    "          # with torch.no_grad():\n",
    "                  # for rot in [0,1,2,3]:\n",
    "                          # OUT += torch.rot90(self.UNet(torch.rot90(image,rot,dims=[-2, -1])),-rot,dims=[-2, -1])\n",
    "          OUT=self.UNet(image)\n",
    "          OUT = (OUT > TH)[0]#閾値0.5でマスクを0と1に分ける\n",
    "          c = (OUT.unsqueeze(1)*idx_map[0]).view(2,2,PATCH_SIZE*PATCH_SIZE).sum(-1)\n",
    "          d = OUT.view(2,PATCH_SIZE*PATCH_SIZE).sum(-1)\n",
    "          m = d > 0\n",
    "          c[m] = (c[m]/(d[m]).unsqueeze(-1)).long()\n",
    "          c[~m] = self.P # I have to find a better solution\n",
    "\n",
    "          image_slices = []\n",
    "\n",
    "          for xy in c:\n",
    "            y_start = max(0, xy[1] - self.P // 2)\n",
    "            y_end = min(512,xy[1] + self.P - self.P // 2)\n",
    "            x_start = max(0, xy[0] - self.P // 2)\n",
    "            x_end = min(512,xy[0] + self.P - self.P // 2)\n",
    "\n",
    "    # スライスが有効なサイズを持つか確認\n",
    "            if (y_end - y_start == self.P) and (x_end - x_start == self.P):#切り取りの部分が途中で切れていないない場合\n",
    "              slice_img = image[0, 0, y_start:y_end, x_start:x_end]\n",
    "              non_zero_slice.append(slice_img)\n",
    "              image_slices.append(slice_img)\n",
    "            else:#切り取りの部分が途中で切れている場合\n",
    "              zero_slice = torch.zeros((self.P, self.P), device=image.device)\n",
    "              image_slices.append(zero_slice)\n",
    "              # print(f\"Skipped slice due to incorrect size: {(y_end - y_start, x_end - x_start)}\")\n",
    "              # print(f\"Slice coordinates: {(xy[1], xy[0])}\")\n",
    "\n",
    "# スライスがあればスタックする\n",
    "          if image_slices:\n",
    "            try:\n",
    "              image = torch.stack(image_slices)\n",
    "            except RuntimeError as e:\n",
    "              print(f\"Error: {e}\")\n",
    "          else:\n",
    "            print(\"No valid slices available for stacking.\")\n",
    "\n",
    "          # if not self.VALID: image = augment_image(image,self.alpha)\n",
    "          x[i,...]=image[self.data.iloc[index]['direction']].cpu().numpy()\n",
    "\n",
    "        for i in range(5):\n",
    "          if (x[i,...].sum() == 0) and (len(non_zero_slice)>0):\n",
    "            x[i,...] = non_zero_slice[0].cpu().numpy()\n",
    "          else:\n",
    "            pass\n",
    "            #nothing\n",
    "        if self.transform is not None:\n",
    "          x = self.transform(image=x)['image']#albumentationを適用\n",
    "        x=torch.as_tensor(x).float()\n",
    "        # x = F.interpolate(x.unsqueeze(0), size=(224, 224), mode='bilinear', align_corners=False).squeeze(0)\n",
    "        m=torch.as_tensor(np.ones(3)).bool()\n",
    "        label = torch.as_tensor(labels[self.data.iloc[index]['label']])\n",
    "\n",
    "        return [x.to(device),m.to(device)],[label.to(device),m.to(device)]\n"
   ]
  },
  {
   "cell_type": "code",
   "execution_count": null,
   "metadata": {
    "executionInfo": {
     "elapsed": 209,
     "status": "ok",
     "timestamp": 1737075855119,
     "user": {
      "displayName": "藤吉亨",
      "userId": "10408607038785028470"
     },
     "user_tz": -540
    },
    "id": "cA7RWNRfdat1"
   },
   "outputs": [],
   "source": [
    "def myLoss(preds,target):\n",
    "    target,mask = target\n",
    "    # target=target[mask]\n",
    "    # preds = preds[mask.view(-1)]\n",
    "    return nn.CrossEntropyLoss(weight=torch.as_tensor([1.,2.,4.]).to(device))(preds+1e-12,target)#コンペの評価指標が重み[1.,2.,4.]だったためこのように設定"
   ]
  },
  {
   "cell_type": "code",
   "execution_count": null,
   "metadata": {
    "executionInfo": {
     "elapsed": 219,
     "status": "ok",
     "timestamp": 1737078017194,
     "user": {
      "displayName": "藤吉亨",
      "userId": "10408607038785028470"
     },
     "user_tz": -540
    },
    "id": "UB3V7odmdvmi"
   },
   "outputs": [],
   "source": [
    "import timm\n",
    "class ViT(nn.Module):\n",
    "    def __init__(self, num_classes):\n",
    "        super(ViT, self).__init__()\n",
    "        # ここにViTのモデルアーキテクチャを実装\n",
    "        self.vit = timm.create_model('eva02_base_patch14_224', pretrained=True, num_classes=num_classes,in_chans=5,features_only=False,global_pool='avg')#timmからモデルを持ってくる\n",
    "        # self.vit.features.conv0=nn.Conv2d(5, 64, kernel_size=(7, 7), stride=(2, 2), padding=(3, 3), bias=False)\n",
    "        # self.new_model=nn.Sequential(*self.layer)\n",
    "    def forward(self, x):\n",
    "        # ここに順伝播の処理を実装\n",
    "        return self.vit(x)"
   ]
  },
  {
   "cell_type": "code",
   "execution_count": null,
   "metadata": {
    "id": "hL1oml1Wdzj7"
   },
   "outputs": [],
   "source": [
    "from fastai.callback.core import Callback\n",
    "\n",
    "class SaveModelCallback(Callback):#モデルをエポックごとに保存するためのコールバック関数\n",
    "    def __init__(self, every_epoch=False, path='models', fname='model',with_opt=False):\n",
    "        self.every_epoch = every_epoch\n",
    "        self.path = path\n",
    "        self.fname = fname\n",
    "        self.with_opt=with_opt\n",
    "\n",
    "    def after_epoch(self):\n",
    "        # エポックごとにモデルを保存する\n",
    "        if self.every_epoch:\n",
    "            self.learn.save(f'{self.path}/{self.fname}_ep_{self.epoch}')\n",
    "\n",
    "save_model_cb = SaveModelCallback(with_opt=True,every_epoch=True, path='/content/drive/MyDrive/RSNA_csv', fname=f\"eva_axial_p_224_f_{fold}\")"
   ]
  },
  {
   "cell_type": "code",
   "execution_count": null,
   "metadata": {
    "colab": {
     "background_save": true,
     "base_uri": "https://localhost:8080/",
     "height": 759,
     "referenced_widgets": [
      "142b83caafb64cd5bb97b563c6b266df",
      "547cc34f1427428a9c1181d6969db4cc",
      "1d7dd022978c4effbfc1d37e58de008e",
      "854f57869e6c418eb15b3ca122ce9855",
      "fa9753e4b65d4d2b889bd2239626184f",
      "16b8cfdb56a741458593dc8a437ac5f8",
      "6b2d9b062d9b481fbe985879d2fe4b37",
      "846984b925ad47aca19741623cff3b3d",
      "aa504835cbaf485e971a20e11058643f",
      "c77791b620cf45fbb978d3551fb25b88",
      "cbab012614cb487cbbb5d67e16fb3e55"
     ]
    },
    "id": "Ba_LY0g3d3CI",
    "outputId": "1af1602b-acc1-4e9d-8ff0-e04a5f803dfd"
   },
   "outputs": [],
   "source": [
    "if 1:\n",
    "    seed_everything(SEED)\n",
    "    with open('/content/drive/MyDrive/RSNA_csv/'+\"SEG_\"+\"1\"+\"_SS\"+\".pkl\", 'rb') as f:\n",
    "      UNet=pickle.load(f)\n",
    "    tds = ViT_T1_Dataset(tdf2,UNet,transform=transforms_train)#データセット関数からデータ拡張を適用して読み込む\n",
    "    vds = ViT_T1_Dataset(vdf2,UNet)#データセット関数から読み込む\n",
    "    tdl = torch.utils.data.DataLoader(tds, batch_size=16, shuffle=True, drop_last=True)#データローダーの作成\n",
    "    vdl = torch.utils.data.DataLoader(vds, batch_size=16, shuffle=False)#データローダーの作成\n",
    "\n",
    "    dls = DataLoaders(tdl,vdl)#fastai用のデータローダーの作成\n",
    "\n",
    "    n_iter = len(tds)//INF['BS']\n",
    "\n",
    "    model = ViT(num_classes=3)#モデル作成\n",
    "    model.to(device)\n",
    "    learn = Learner(#Learnerを作成\n",
    "        dls,\n",
    "        model,\n",
    "        lr=INF['LR'],\n",
    "        loss_func=myLoss,\n",
    "        cbs=[\n",
    "            save_model_cb,\n",
    "            GradientClip,\n",
    "            ShowGraphCallback(),#学習曲線を表示\n",
    "            # alpha_cb\n",
    "        ]\n",
    "    )\n",
    "    learn.fit_one_cycle(40)\n",
    "    # with open('/content/drive/MyDrive/RSNA_csv/'+\"VIT_\"+str(fold)+\".pkl\", 'wb') as f:\n",
    "      # pickle.dump(model, f)"
   ]
  },
  {
   "cell_type": "markdown",
   "metadata": {
    "id": "286O7e2N7TIA"
   },
   "source": [
    "#混同行列の算出"
   ]
  },
  {
   "cell_type": "code",
   "execution_count": null,
   "metadata": {
    "executionInfo": {
     "elapsed": 520,
     "status": "ok",
     "timestamp": 1737077434889,
     "user": {
      "displayName": "藤吉亨",
      "userId": "10408607038785028470"
     },
     "user_tz": -540
    },
    "id": "SFFe0NPP7SkV"
   },
   "outputs": [],
   "source": [
    "vdf2=pd.read_pickle(\"/content/drive/MyDrive/RSNA_csv/grouped_df_axial_right_vdf2.pkl\")"
   ]
  },
  {
   "cell_type": "code",
   "execution_count": null,
   "metadata": {
    "executionInfo": {
     "elapsed": 774,
     "status": "ok",
     "timestamp": 1737077437112,
     "user": {
      "displayName": "藤吉亨",
      "userId": "10408607038785028470"
     },
     "user_tz": -540
    },
    "id": "844B6xwK_-eV"
   },
   "outputs": [],
   "source": [
    "vdf4=pd.read_pickle(\"/content/drive/MyDrive/RSNA_csv/grouped_df_axial_vdf2.pkl\")"
   ]
  },
  {
   "cell_type": "code",
   "execution_count": null,
   "metadata": {
    "executionInfo": {
     "elapsed": 213,
     "status": "ok",
     "timestamp": 1737077438856,
     "user": {
      "displayName": "藤吉亨",
      "userId": "10408607038785028470"
     },
     "user_tz": -540
    },
    "id": "DQESn8voyurW"
   },
   "outputs": [],
   "source": [
    "vdf3=pd.concat([vdf2,vdf4],axis=0,ignore_index=True)\n",
    "vdf3.reset_index(drop=True,inplace=True)"
   ]
  },
  {
   "cell_type": "code",
   "execution_count": null,
   "metadata": {
    "colab": {
     "base_uri": "https://localhost:8080/",
     "height": 443
    },
    "executionInfo": {
     "elapsed": 336,
     "status": "ok",
     "timestamp": 1737077448958,
     "user": {
      "displayName": "藤吉亨",
      "userId": "10408607038785028470"
     },
     "user_tz": -540
    },
    "id": "9w4_qZkj4kHg",
    "outputId": "a05d740a-d1a1-40be-8782-0afd0c881aaa"
   },
   "outputs": [],
   "source": [
    "vdf3"
   ]
  },
  {
   "cell_type": "code",
   "execution_count": null,
   "metadata": {
    "executionInfo": {
     "elapsed": 204,
     "status": "ok",
     "timestamp": 1737077470045,
     "user": {
      "displayName": "藤吉亨",
      "userId": "10408607038785028470"
     },
     "user_tz": -540
    },
    "id": "XC-VAkUm7wwQ"
   },
   "outputs": [],
   "source": [
    "ALL_CONDITIONS = sorted([\"left_subarticular_stenosis\", \"right_subarticular_stenosis\"])\n",
    "LEVELS = [\"l1_l2\", \"l2_l3\", \"l3_l4\", \"l4_l5\", \"l5_s1\"]\n"
   ]
  },
  {
   "cell_type": "code",
   "execution_count": null,
   "metadata": {
    "executionInfo": {
     "elapsed": 2907,
     "status": "ok",
     "timestamp": 1737077474254,
     "user": {
      "displayName": "藤吉亨",
      "userId": "10408607038785028470"
     },
     "user_tz": -540
    },
    "id": "jiybIzVV8491"
   },
   "outputs": [],
   "source": [
    "# Pre-populate results df\n",
    "import glob\n",
    "import os\n",
    "study_ids = vdf3['study_id'].unique().tolist()\n",
    "\n",
    "results_df = pd.DataFrame({\"row_id\":[], \"normal_mild\": [], \"moderate\": [], \"severe\": []})\n",
    "for study_id in study_ids:\n",
    "    for condition in ALL_CONDITIONS:\n",
    "        for level in LEVELS:\n",
    "            row_id = f\"{study_id}_{condition}_{level}\"\n",
    "            results_df = results_df._append({\"row_id\": row_id, \"normal_mild\": 1/3, \"moderate\": 1/3, \"severe\": 1/3}, ignore_index=True)"
   ]
  },
  {
   "cell_type": "code",
   "execution_count": null,
   "metadata": {
    "executionInfo": {
     "elapsed": 1492,
     "status": "ok",
     "timestamp": 1737077600309,
     "user": {
      "displayName": "藤吉亨",
      "userId": "10408607038785028470"
     },
     "user_tz": -540
    },
    "id": "QnV-rBDMAM0k"
   },
   "outputs": [],
   "source": [
    "grouped_df_axial=vdf3\n",
    "with open(\"/content/drive/MyDrive/RSNA_csv/SEG_1_SS.pkl\", 'rb') as f:\n",
    "  model2=pickle.load(f)"
   ]
  },
  {
   "cell_type": "code",
   "execution_count": null,
   "metadata": {
    "colab": {
     "base_uri": "https://localhost:8080/"
    },
    "executionInfo": {
     "elapsed": 356677,
     "status": "ok",
     "timestamp": 1737078569154,
     "user": {
      "displayName": "藤吉亨",
      "userId": "10408607038785028470"
     },
     "user_tz": -540
    },
    "id": "UrhHuajgBKZr",
    "outputId": "583da182-2b88-4567-dee2-3b53ffdd2a0e"
   },
   "outputs": [],
   "source": [
    "\n",
    "model = ViT(num_classes=3)\n",
    "\n",
    "model = model.to(device)\n",
    "\n",
    "checkpoint = torch.load('/content/drive/MyDrive/RSNA_csv/eva_axial_p_224_f_1_ep_15.pth')\n",
    "model.load_state_dict(checkpoint['model'])\n",
    "\n",
    "model.eval()\n",
    "\n",
    "\n",
    "\n",
    "grouped_df_axial = grouped_df_axial.reset_index(drop=True)\n",
    "\n",
    "test_a=ViT_T1_Dataset(grouped_df_axial,model2)\n",
    "\n",
    "with torch.no_grad():\n",
    "    for i in tqdm(range(len(test_a)), desc=\"Processing predictions\"):\n",
    "      try:\n",
    "        row = grouped_df_axial.iloc[i]\n",
    "        x=test_a.__getitem__(i)[0][0].unsqueeze(0)\n",
    "        probabilities = F.softmax(model(x), dim=1)\n",
    "      #   print(probabilities)\n",
    "        if row['direction']==0:\n",
    "          if row['level']=='L1/L2':\n",
    "            results_df.loc[results_df['row_id']==f\"{row['study_id']}_left_subarticular_stenosis_l1_l2\",'normal_mild']=probabilities[0][0].item()\n",
    "            results_df.loc[results_df['row_id']==f\"{row['study_id']}_left_subarticular_stenosis_l1_l2\",'moderate']=probabilities[0][1].item()\n",
    "            results_df.loc[results_df['row_id']==f\"{row['study_id']}_left_subarticular_stenosis_l1_l2\",'severe']=probabilities[0][2].item()\n",
    "          elif row['level']=='L2/L3':\n",
    "            results_df.loc[results_df['row_id']==f\"{row['study_id']}_left_subarticular_stenosis_l2_l3\",'normal_mild']=probabilities[0][0].item()\n",
    "            results_df.loc[results_df['row_id']==f\"{row['study_id']}_left_subarticular_stenosis_l2_l3\",'moderate']=probabilities[0][1].item()\n",
    "            results_df.loc[results_df['row_id']==f\"{row['study_id']}_left_subarticular_stenosis_l2_l3\",'severe']=probabilities[0][2].item()\n",
    "          elif row['level']=='L3/L4':\n",
    "            results_df.loc[results_df['row_id']==f\"{row['study_id']}_left_subarticular_stenosis_l3_l4\",'normal_mild']=probabilities[0][0].item()\n",
    "            results_df.loc[results_df['row_id']==f\"{row['study_id']}_left_subarticular_stenosis_l3_l4\",'moderate']=probabilities[0][1].item()\n",
    "            results_df.loc[results_df['row_id']==f\"{row['study_id']}_left_subarticular_stenosis_l3_l4\",'severe']=probabilities[0][2].item()\n",
    "          elif row['level']=='L4/L5':\n",
    "            results_df.loc[results_df['row_id']==f\"{row['study_id']}_left_subarticular_stenosis_l4_l5\",'normal_mild']=probabilities[0][0].item()\n",
    "            results_df.loc[results_df['row_id']==f\"{row['study_id']}_left_subarticular_stenosis_l4_l5\",'moderate']=probabilities[0][1].item()\n",
    "            results_df.loc[results_df['row_id']==f\"{row['study_id']}_left_subarticular_stenosis_l4_l5\",'severe']=probabilities[0][2].item()\n",
    "          elif row['level']=='L5/S1':\n",
    "            results_df.loc[results_df['row_id']==f\"{row['study_id']}_left_subarticular_stenosis_l5_s1\",'normal_mild']=probabilities[0][0].item()\n",
    "            results_df.loc[results_df['row_id']==f\"{row['study_id']}_left_subarticular_stenosis_l5_s1\",'moderate']=probabilities[0][1].item()\n",
    "            results_df.loc[results_df['row_id']==f\"{row['study_id']}_left_subarticular_stenosis_l5_s1\",'severe']=probabilities[0][2].item()\n",
    "      except Exception as e:\n",
    "        print(f\"An error occurred: {e}\")\n"
   ]
  },
  {
   "cell_type": "code",
   "execution_count": null,
   "metadata": {
    "colab": {
     "base_uri": "https://localhost:8080/"
    },
    "executionInfo": {
     "elapsed": 356415,
     "status": "ok",
     "timestamp": 1737079068598,
     "user": {
      "displayName": "藤吉亨",
      "userId": "10408607038785028470"
     },
     "user_tz": -540
    },
    "id": "HityP333A0aQ",
    "outputId": "5c79e247-990b-4a11-bf5a-6a5da723b426"
   },
   "outputs": [],
   "source": [
    "\n",
    "model = ViT(num_classes=3)\n",
    "\n",
    "model = model.to(device)\n",
    "\n",
    "checkpoint = torch.load('/content/drive/MyDrive/RSNA_csv/eva_axial_r_p_224_f_1_ep_18.pth')\n",
    "model.load_state_dict(checkpoint['model'])\n",
    "\n",
    "model.eval()\n",
    "\n",
    "with torch.no_grad():\n",
    "    for i in tqdm(range(len(test_a)), desc=\"Processing predictions\"):\n",
    "      try:\n",
    "        row = grouped_df_axial.iloc[i]\n",
    "        x=test_a.__getitem__(i)[0][0].unsqueeze(0)\n",
    "        probabilities = F.softmax(model(x), dim=1)\n",
    "      #   print(probabilities)\n",
    "        if row['direction']==1:\n",
    "          if row['level']=='L1/L2':\n",
    "            results_df.loc[results_df['row_id']==f\"{row['study_id']}_right_subarticular_stenosis_l1_l2\",'normal_mild']=probabilities[0][0].item()\n",
    "            results_df.loc[results_df['row_id']==f\"{row['study_id']}_right_subarticular_stenosis_l1_l2\",'moderate']=probabilities[0][1].item()\n",
    "            results_df.loc[results_df['row_id']==f\"{row['study_id']}_right_subarticular_stenosis_l1_l2\",'severe']=probabilities[0][2].item()\n",
    "          elif row['level']=='L2/L3':\n",
    "            results_df.loc[results_df['row_id']==f\"{row['study_id']}_right_subarticular_stenosis_l2_l3\",'normal_mild']=probabilities[0][0].item()\n",
    "            results_df.loc[results_df['row_id']==f\"{row['study_id']}_right_subarticular_stenosis_l2_l3\",'moderate']=probabilities[0][1].item()\n",
    "            results_df.loc[results_df['row_id']==f\"{row['study_id']}_right_subarticular_stenosis_l2_l3\",'severe']=probabilities[0][2].item()\n",
    "          elif row['level']=='L3/L4':\n",
    "            results_df.loc[results_df['row_id']==f\"{row['study_id']}_right_subarticular_stenosis_l3_l4\",'normal_mild']=probabilities[0][0].item()\n",
    "            results_df.loc[results_df['row_id']==f\"{row['study_id']}_right_subarticular_stenosis_l3_l4\",'moderate']=probabilities[0][1].item()\n",
    "            results_df.loc[results_df['row_id']==f\"{row['study_id']}_right_subarticular_stenosis_l3_l4\",'severe']=probabilities[0][2].item()\n",
    "          elif row['level']=='L4/L5':\n",
    "            results_df.loc[results_df['row_id']==f\"{row['study_id']}_right_subarticular_stenosis_l4_l5\",'normal_mild']=probabilities[0][0].item()\n",
    "            results_df.loc[results_df['row_id']==f\"{row['study_id']}_right_subarticular_stenosis_l4_l5\",'moderate']=probabilities[0][1].item()\n",
    "            results_df.loc[results_df['row_id']==f\"{row['study_id']}_right_subarticular_stenosis_l4_l5\",'severe']=probabilities[0][2].item()\n",
    "          elif row['level']=='L5/S1':\n",
    "            results_df.loc[results_df['row_id']==f\"{row['study_id']}_right_subarticular_stenosis_l5_s1\",'normal_mild']=probabilities[0][0].item()\n",
    "            results_df.loc[results_df['row_id']==f\"{row['study_id']}_right_subarticular_stenosis_l5_s1\",'moderate']=probabilities[0][1].item()\n",
    "            results_df.loc[results_df['row_id']==f\"{row['study_id']}_right_subarticular_stenosis_l5_s1\",'severe']=probabilities[0][2].item()\n",
    "      except Exception as e:\n",
    "        print(f\"An error occurred: {e}\")"
   ]
  },
  {
   "cell_type": "code",
   "execution_count": null,
   "metadata": {
    "colab": {
     "base_uri": "https://localhost:8080/",
     "height": 443
    },
    "executionInfo": {
     "elapsed": 4,
     "status": "ok",
     "timestamp": 1737079102006,
     "user": {
      "displayName": "藤吉亨",
      "userId": "10408607038785028470"
     },
     "user_tz": -540
    },
    "id": "hsoH7Fd2-hiC",
    "outputId": "c80bb24d-adbd-41d3-d7fb-f91fd1a377b0"
   },
   "outputs": [],
   "source": [
    "vdf3"
   ]
  },
  {
   "cell_type": "code",
   "execution_count": null,
   "metadata": {
    "colab": {
     "base_uri": "https://localhost:8080/",
     "height": 423
    },
    "executionInfo": {
     "elapsed": 245,
     "status": "ok",
     "timestamp": 1737079344829,
     "user": {
      "displayName": "藤吉亨",
      "userId": "10408607038785028470"
     },
     "user_tz": -540
    },
    "id": "A48Lw0Nd_zV-",
    "outputId": "e48e7021-c955-42db-b5eb-219991dca6c1"
   },
   "outputs": [],
   "source": [
    "results_df"
   ]
  },
  {
   "cell_type": "code",
   "execution_count": null,
   "metadata": {
    "colab": {
     "base_uri": "https://localhost:8080/"
    },
    "executionInfo": {
     "elapsed": 6230,
     "status": "ok",
     "timestamp": 1737079430313,
     "user": {
      "displayName": "藤吉亨",
      "userId": "10408607038785028470"
     },
     "user_tz": -540
    },
    "id": "BHJDsx5wCjku",
    "outputId": "df5d70bb-5588-4a33-ad92-98be3e33a03d"
   },
   "outputs": [],
   "source": [
    "import pandas as pd\n",
    "from sklearn.metrics import confusion_matrix, classification_report\n",
    "\n",
    "# マッピングのための辞書を用意\n",
    "direction_to_condition = {\n",
    "    0: \"left_subarticular_stenosis\",\n",
    "    1: \"right_subarticular_stenosis\",\n",
    "}\n",
    "\n",
    "level_to_level_t = {\n",
    "    \"L1/L2\": \"l1_l2\",\n",
    "    \"L2/L3\": \"l2_l3\",\n",
    "    \"L3/L4\": \"l3_l4\",\n",
    "    \"L4/L5\": \"l4_l5\",\n",
    "    \"L5/S1\": \"l5_s1\",\n",
    "}\n",
    "\n",
    "true_label_to_true_label_t={\n",
    "    \"Normal/Mild\":\"normal_mild\",\n",
    "    \"Moderate\":\"moderate\",\n",
    "    \"Severe\":\"severe\"\n",
    "}\n",
    "\n",
    "# vdf3 の正解データを results_df にマッピング\n",
    "true_labels = []\n",
    "predicted_labels = []\n",
    "\n",
    "for _, row in vdf3.iterrows():\n",
    "    study_id = row['study_id']\n",
    "    direction = row['direction']\n",
    "    level = row['level']\n",
    "    level_t=level_to_level_t[level]\n",
    "    condition = direction_to_condition[direction]\n",
    "\n",
    "\n",
    "    # 正解ラベル\n",
    "    true_label = row['label']  # 正解ラベルがここにあると仮定\n",
    "    true_label_t=true_label_to_true_label_t[true_label]\n",
    "    true_labels.append(true_label_t)\n",
    "\n",
    "    # 予測確率に基づいて予測ラベルを取得\n",
    "    row_id = f\"{study_id}_{condition}_{level_t}\"\n",
    "    predicted_row = results_df[results_df['row_id'] == row_id]\n",
    "\n",
    "    if not predicted_row.empty:\n",
    "        # 最大確率の列名が予測ラベル\n",
    "        predicted_label = predicted_row[['normal_mild', 'moderate', 'severe']].idxmax(axis=1).values[0]\n",
    "        predicted_labels.append(predicted_label)\n",
    "    else:\n",
    "        print(f\"Warning: No prediction found for row_id {row_id}\")\n",
    "        predicted_labels.append(None)  # 空の場合は None を設定\n",
    "\n",
    "# None を除外\n",
    "true_labels_filtered = [t for t, p in zip(true_labels, predicted_labels) if p is not None]\n",
    "predicted_labels_filtered = [p for p in predicted_labels if p is not None]\n",
    "\n",
    "# 混同行列を計算\n",
    "conf_matrix = confusion_matrix(true_labels_filtered, predicted_labels_filtered, labels=[\"normal_mild\", \"moderate\", \"severe\"])\n",
    "\n",
    "# 結果表示\n",
    "print(\"Confusion Matrix:\")\n",
    "print(conf_matrix)\n",
    "\n",
    "# 詳細レポート\n",
    "print(\"\\nClassification Report:\")\n",
    "print(classification_report(true_labels_filtered, predicted_labels_filtered, target_names=[\"normal_mild\", \"moderate\", \"severe\"]))\n"
   ]
  }
 ],
 "metadata": {
  "accelerator": "GPU",
  "colab": {
   "authorship_tag": "ABX9TyMiu/dXzEaFXiSUtiWP0LWW",
   "gpuType": "A100",
   "machine_shape": "hm",
   "mount_file_id": "1lzlcIftRpbohDHVyMA_Xq0oqYmwscYkK",
   "provenance": []
  },
  "kernelspec": {
   "display_name": "Python 3",
   "name": "python3"
  },
  "language_info": {
   "name": "python"
  },
  "widgets": {
   "application/vnd.jupyter.widget-state+json": {
    "142b83caafb64cd5bb97b563c6b266df": {
     "model_module": "@jupyter-widgets/controls",
     "model_module_version": "1.5.0",
     "model_name": "HBoxModel",
     "state": {
      "_dom_classes": [],
      "_model_module": "@jupyter-widgets/controls",
      "_model_module_version": "1.5.0",
      "_model_name": "HBoxModel",
      "_view_count": null,
      "_view_module": "@jupyter-widgets/controls",
      "_view_module_version": "1.5.0",
      "_view_name": "HBoxView",
      "box_style": "",
      "children": [
       "IPY_MODEL_547cc34f1427428a9c1181d6969db4cc",
       "IPY_MODEL_1d7dd022978c4effbfc1d37e58de008e",
       "IPY_MODEL_854f57869e6c418eb15b3ca122ce9855"
      ],
      "layout": "IPY_MODEL_fa9753e4b65d4d2b889bd2239626184f"
     }
    },
    "16b8cfdb56a741458593dc8a437ac5f8": {
     "model_module": "@jupyter-widgets/base",
     "model_module_version": "1.2.0",
     "model_name": "LayoutModel",
     "state": {
      "_model_module": "@jupyter-widgets/base",
      "_model_module_version": "1.2.0",
      "_model_name": "LayoutModel",
      "_view_count": null,
      "_view_module": "@jupyter-widgets/base",
      "_view_module_version": "1.2.0",
      "_view_name": "LayoutView",
      "align_content": null,
      "align_items": null,
      "align_self": null,
      "border": null,
      "bottom": null,
      "display": null,
      "flex": null,
      "flex_flow": null,
      "grid_area": null,
      "grid_auto_columns": null,
      "grid_auto_flow": null,
      "grid_auto_rows": null,
      "grid_column": null,
      "grid_gap": null,
      "grid_row": null,
      "grid_template_areas": null,
      "grid_template_columns": null,
      "grid_template_rows": null,
      "height": null,
      "justify_content": null,
      "justify_items": null,
      "left": null,
      "margin": null,
      "max_height": null,
      "max_width": null,
      "min_height": null,
      "min_width": null,
      "object_fit": null,
      "object_position": null,
      "order": null,
      "overflow": null,
      "overflow_x": null,
      "overflow_y": null,
      "padding": null,
      "right": null,
      "top": null,
      "visibility": null,
      "width": null
     }
    },
    "1d7dd022978c4effbfc1d37e58de008e": {
     "model_module": "@jupyter-widgets/controls",
     "model_module_version": "1.5.0",
     "model_name": "FloatProgressModel",
     "state": {
      "_dom_classes": [],
      "_model_module": "@jupyter-widgets/controls",
      "_model_module_version": "1.5.0",
      "_model_name": "FloatProgressModel",
      "_view_count": null,
      "_view_module": "@jupyter-widgets/controls",
      "_view_module_version": "1.5.0",
      "_view_name": "ProgressView",
      "bar_style": "success",
      "description": "",
      "description_tooltip": null,
      "layout": "IPY_MODEL_846984b925ad47aca19741623cff3b3d",
      "max": 343057022,
      "min": 0,
      "orientation": "horizontal",
      "style": "IPY_MODEL_aa504835cbaf485e971a20e11058643f",
      "value": 343057022
     }
    },
    "547cc34f1427428a9c1181d6969db4cc": {
     "model_module": "@jupyter-widgets/controls",
     "model_module_version": "1.5.0",
     "model_name": "HTMLModel",
     "state": {
      "_dom_classes": [],
      "_model_module": "@jupyter-widgets/controls",
      "_model_module_version": "1.5.0",
      "_model_name": "HTMLModel",
      "_view_count": null,
      "_view_module": "@jupyter-widgets/controls",
      "_view_module_version": "1.5.0",
      "_view_name": "HTMLView",
      "description": "",
      "description_tooltip": null,
      "layout": "IPY_MODEL_16b8cfdb56a741458593dc8a437ac5f8",
      "placeholder": "​",
      "style": "IPY_MODEL_6b2d9b062d9b481fbe985879d2fe4b37",
      "value": "model.safetensors: 100%"
     }
    },
    "6b2d9b062d9b481fbe985879d2fe4b37": {
     "model_module": "@jupyter-widgets/controls",
     "model_module_version": "1.5.0",
     "model_name": "DescriptionStyleModel",
     "state": {
      "_model_module": "@jupyter-widgets/controls",
      "_model_module_version": "1.5.0",
      "_model_name": "DescriptionStyleModel",
      "_view_count": null,
      "_view_module": "@jupyter-widgets/base",
      "_view_module_version": "1.2.0",
      "_view_name": "StyleView",
      "description_width": ""
     }
    },
    "846984b925ad47aca19741623cff3b3d": {
     "model_module": "@jupyter-widgets/base",
     "model_module_version": "1.2.0",
     "model_name": "LayoutModel",
     "state": {
      "_model_module": "@jupyter-widgets/base",
      "_model_module_version": "1.2.0",
      "_model_name": "LayoutModel",
      "_view_count": null,
      "_view_module": "@jupyter-widgets/base",
      "_view_module_version": "1.2.0",
      "_view_name": "LayoutView",
      "align_content": null,
      "align_items": null,
      "align_self": null,
      "border": null,
      "bottom": null,
      "display": null,
      "flex": null,
      "flex_flow": null,
      "grid_area": null,
      "grid_auto_columns": null,
      "grid_auto_flow": null,
      "grid_auto_rows": null,
      "grid_column": null,
      "grid_gap": null,
      "grid_row": null,
      "grid_template_areas": null,
      "grid_template_columns": null,
      "grid_template_rows": null,
      "height": null,
      "justify_content": null,
      "justify_items": null,
      "left": null,
      "margin": null,
      "max_height": null,
      "max_width": null,
      "min_height": null,
      "min_width": null,
      "object_fit": null,
      "object_position": null,
      "order": null,
      "overflow": null,
      "overflow_x": null,
      "overflow_y": null,
      "padding": null,
      "right": null,
      "top": null,
      "visibility": null,
      "width": null
     }
    },
    "854f57869e6c418eb15b3ca122ce9855": {
     "model_module": "@jupyter-widgets/controls",
     "model_module_version": "1.5.0",
     "model_name": "HTMLModel",
     "state": {
      "_dom_classes": [],
      "_model_module": "@jupyter-widgets/controls",
      "_model_module_version": "1.5.0",
      "_model_name": "HTMLModel",
      "_view_count": null,
      "_view_module": "@jupyter-widgets/controls",
      "_view_module_version": "1.5.0",
      "_view_name": "HTMLView",
      "description": "",
      "description_tooltip": null,
      "layout": "IPY_MODEL_c77791b620cf45fbb978d3551fb25b88",
      "placeholder": "​",
      "style": "IPY_MODEL_cbab012614cb487cbbb5d67e16fb3e55",
      "value": " 343M/343M [00:01&lt;00:00, 244MB/s]"
     }
    },
    "aa504835cbaf485e971a20e11058643f": {
     "model_module": "@jupyter-widgets/controls",
     "model_module_version": "1.5.0",
     "model_name": "ProgressStyleModel",
     "state": {
      "_model_module": "@jupyter-widgets/controls",
      "_model_module_version": "1.5.0",
      "_model_name": "ProgressStyleModel",
      "_view_count": null,
      "_view_module": "@jupyter-widgets/base",
      "_view_module_version": "1.2.0",
      "_view_name": "StyleView",
      "bar_color": null,
      "description_width": ""
     }
    },
    "c77791b620cf45fbb978d3551fb25b88": {
     "model_module": "@jupyter-widgets/base",
     "model_module_version": "1.2.0",
     "model_name": "LayoutModel",
     "state": {
      "_model_module": "@jupyter-widgets/base",
      "_model_module_version": "1.2.0",
      "_model_name": "LayoutModel",
      "_view_count": null,
      "_view_module": "@jupyter-widgets/base",
      "_view_module_version": "1.2.0",
      "_view_name": "LayoutView",
      "align_content": null,
      "align_items": null,
      "align_self": null,
      "border": null,
      "bottom": null,
      "display": null,
      "flex": null,
      "flex_flow": null,
      "grid_area": null,
      "grid_auto_columns": null,
      "grid_auto_flow": null,
      "grid_auto_rows": null,
      "grid_column": null,
      "grid_gap": null,
      "grid_row": null,
      "grid_template_areas": null,
      "grid_template_columns": null,
      "grid_template_rows": null,
      "height": null,
      "justify_content": null,
      "justify_items": null,
      "left": null,
      "margin": null,
      "max_height": null,
      "max_width": null,
      "min_height": null,
      "min_width": null,
      "object_fit": null,
      "object_position": null,
      "order": null,
      "overflow": null,
      "overflow_x": null,
      "overflow_y": null,
      "padding": null,
      "right": null,
      "top": null,
      "visibility": null,
      "width": null
     }
    },
    "cbab012614cb487cbbb5d67e16fb3e55": {
     "model_module": "@jupyter-widgets/controls",
     "model_module_version": "1.5.0",
     "model_name": "DescriptionStyleModel",
     "state": {
      "_model_module": "@jupyter-widgets/controls",
      "_model_module_version": "1.5.0",
      "_model_name": "DescriptionStyleModel",
      "_view_count": null,
      "_view_module": "@jupyter-widgets/base",
      "_view_module_version": "1.2.0",
      "_view_name": "StyleView",
      "description_width": ""
     }
    },
    "fa9753e4b65d4d2b889bd2239626184f": {
     "model_module": "@jupyter-widgets/base",
     "model_module_version": "1.2.0",
     "model_name": "LayoutModel",
     "state": {
      "_model_module": "@jupyter-widgets/base",
      "_model_module_version": "1.2.0",
      "_model_name": "LayoutModel",
      "_view_count": null,
      "_view_module": "@jupyter-widgets/base",
      "_view_module_version": "1.2.0",
      "_view_name": "LayoutView",
      "align_content": null,
      "align_items": null,
      "align_self": null,
      "border": null,
      "bottom": null,
      "display": null,
      "flex": null,
      "flex_flow": null,
      "grid_area": null,
      "grid_auto_columns": null,
      "grid_auto_flow": null,
      "grid_auto_rows": null,
      "grid_column": null,
      "grid_gap": null,
      "grid_row": null,
      "grid_template_areas": null,
      "grid_template_columns": null,
      "grid_template_rows": null,
      "height": null,
      "justify_content": null,
      "justify_items": null,
      "left": null,
      "margin": null,
      "max_height": null,
      "max_width": null,
      "min_height": null,
      "min_width": null,
      "object_fit": null,
      "object_position": null,
      "order": null,
      "overflow": null,
      "overflow_x": null,
      "overflow_y": null,
      "padding": null,
      "right": null,
      "top": null,
      "visibility": null,
      "width": null
     }
    }
   }
  }
 },
 "nbformat": 4,
 "nbformat_minor": 0
}
